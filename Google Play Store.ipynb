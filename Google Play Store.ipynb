{
 "cells": [
  {
   "cell_type": "code",
   "execution_count": 1,
   "metadata": {},
   "outputs": [],
   "source": [
    "import numpy as np\n",
    "import pandas as pd"
   ]
  },
  {
   "cell_type": "code",
   "execution_count": 2,
   "metadata": {},
   "outputs": [
    {
     "name": "stderr",
     "output_type": "stream",
     "text": [
      "C:\\Users\\Malo\\Anaconda3\\lib\\site-packages\\IPython\\core\\interactiveshell.py:3020: DtypeWarning: Columns (2,3,11,12,13) have mixed types. Specify dtype option on import or set low_memory=False.\n",
      "  interactivity=interactivity, compiler=compiler, result=result)\n"
     ]
    }
   ],
   "source": [
    "data=pd.read_csv('Google-Playstore-Full.csv')"
   ]
  },
  {
   "cell_type": "code",
   "execution_count": 3,
   "metadata": {
    "scrolled": true
   },
   "outputs": [
    {
     "data": {
      "text/html": [
       "<div>\n",
       "<style scoped>\n",
       "    .dataframe tbody tr th:only-of-type {\n",
       "        vertical-align: middle;\n",
       "    }\n",
       "\n",
       "    .dataframe tbody tr th {\n",
       "        vertical-align: top;\n",
       "    }\n",
       "\n",
       "    .dataframe thead th {\n",
       "        text-align: right;\n",
       "    }\n",
       "</style>\n",
       "<table border=\"1\" class=\"dataframe\">\n",
       "  <thead>\n",
       "    <tr style=\"text-align: right;\">\n",
       "      <th></th>\n",
       "      <th>App Name</th>\n",
       "      <th>Category</th>\n",
       "      <th>Rating</th>\n",
       "      <th>Reviews</th>\n",
       "      <th>Installs</th>\n",
       "      <th>Size</th>\n",
       "      <th>Price</th>\n",
       "      <th>Content Rating</th>\n",
       "      <th>Last Updated</th>\n",
       "      <th>Minimum Version</th>\n",
       "      <th>Latest Version</th>\n",
       "      <th>Unnamed: 11</th>\n",
       "      <th>Unnamed: 12</th>\n",
       "      <th>Unnamed: 13</th>\n",
       "      <th>Unnamed: 14</th>\n",
       "    </tr>\n",
       "  </thead>\n",
       "  <tbody>\n",
       "    <tr>\n",
       "      <th>0</th>\n",
       "      <td>DoorDash - Food Delivery</td>\n",
       "      <td>FOOD_AND_DRINK</td>\n",
       "      <td>4.548561573</td>\n",
       "      <td>305034</td>\n",
       "      <td>5,000,000+</td>\n",
       "      <td>Varies with device</td>\n",
       "      <td>0</td>\n",
       "      <td>Everyone</td>\n",
       "      <td>March 29, 2019</td>\n",
       "      <td>Varies with device</td>\n",
       "      <td>Varies with device</td>\n",
       "      <td>NaN</td>\n",
       "      <td>NaN</td>\n",
       "      <td>NaN</td>\n",
       "      <td>NaN</td>\n",
       "    </tr>\n",
       "    <tr>\n",
       "      <th>1</th>\n",
       "      <td>TripAdvisor Hotels Flights Restaurants Attract...</td>\n",
       "      <td>TRAVEL_AND_LOCAL</td>\n",
       "      <td>4.400671482</td>\n",
       "      <td>1.20792e+06</td>\n",
       "      <td>100,000,000+</td>\n",
       "      <td>Varies with device</td>\n",
       "      <td>0</td>\n",
       "      <td>Everyone</td>\n",
       "      <td>March 29, 2019</td>\n",
       "      <td>Varies with device</td>\n",
       "      <td>Varies with device</td>\n",
       "      <td>NaN</td>\n",
       "      <td>NaN</td>\n",
       "      <td>NaN</td>\n",
       "      <td>NaN</td>\n",
       "    </tr>\n",
       "    <tr>\n",
       "      <th>2</th>\n",
       "      <td>Peapod</td>\n",
       "      <td>SHOPPING</td>\n",
       "      <td>3.656329393</td>\n",
       "      <td>1967</td>\n",
       "      <td>100,000+</td>\n",
       "      <td>1.4M</td>\n",
       "      <td>0</td>\n",
       "      <td>Everyone</td>\n",
       "      <td>September 20, 2018</td>\n",
       "      <td>5.0 and up</td>\n",
       "      <td>2.2.0</td>\n",
       "      <td>NaN</td>\n",
       "      <td>NaN</td>\n",
       "      <td>NaN</td>\n",
       "      <td>NaN</td>\n",
       "    </tr>\n",
       "    <tr>\n",
       "      <th>3</th>\n",
       "      <td>foodpanda - Local Food Delivery</td>\n",
       "      <td>FOOD_AND_DRINK</td>\n",
       "      <td>4.107232571</td>\n",
       "      <td>389154</td>\n",
       "      <td>10,000,000+</td>\n",
       "      <td>16M</td>\n",
       "      <td>0</td>\n",
       "      <td>Everyone</td>\n",
       "      <td>March 22, 2019</td>\n",
       "      <td>4.2 and up</td>\n",
       "      <td>4.18.2</td>\n",
       "      <td>NaN</td>\n",
       "      <td>NaN</td>\n",
       "      <td>NaN</td>\n",
       "      <td>NaN</td>\n",
       "    </tr>\n",
       "    <tr>\n",
       "      <th>4</th>\n",
       "      <td>My CookBook Pro (Ad Free)</td>\n",
       "      <td>FOOD_AND_DRINK</td>\n",
       "      <td>4.647752285</td>\n",
       "      <td>2291</td>\n",
       "      <td>10,000+</td>\n",
       "      <td>Varies with device</td>\n",
       "      <td>$5.99</td>\n",
       "      <td>Everyone</td>\n",
       "      <td>April 1, 2019</td>\n",
       "      <td>Varies with device</td>\n",
       "      <td>Varies with device</td>\n",
       "      <td>NaN</td>\n",
       "      <td>NaN</td>\n",
       "      <td>NaN</td>\n",
       "      <td>NaN</td>\n",
       "    </tr>\n",
       "    <tr>\n",
       "      <th>5</th>\n",
       "      <td>Safeway Online Shopping</td>\n",
       "      <td>FOOD_AND_DRINK</td>\n",
       "      <td>3.82532239</td>\n",
       "      <td>2559</td>\n",
       "      <td>100,000+</td>\n",
       "      <td>23M</td>\n",
       "      <td>0</td>\n",
       "      <td>Everyone</td>\n",
       "      <td>March 29, 2019</td>\n",
       "      <td>5.0 and up</td>\n",
       "      <td>7.6.0</td>\n",
       "      <td>NaN</td>\n",
       "      <td>NaN</td>\n",
       "      <td>NaN</td>\n",
       "      <td>NaN</td>\n",
       "    </tr>\n",
       "    <tr>\n",
       "      <th>6</th>\n",
       "      <td>Yelp: Food, Shopping, Services Nearby</td>\n",
       "      <td>TRAVEL_AND_LOCAL</td>\n",
       "      <td>4.267267704</td>\n",
       "      <td>421918</td>\n",
       "      <td>10,000,000+</td>\n",
       "      <td>Varies with device</td>\n",
       "      <td>0</td>\n",
       "      <td>Teen</td>\n",
       "      <td>March 28, 2019</td>\n",
       "      <td>Varies with device</td>\n",
       "      <td>Varies with device</td>\n",
       "      <td>NaN</td>\n",
       "      <td>NaN</td>\n",
       "      <td>NaN</td>\n",
       "      <td>NaN</td>\n",
       "    </tr>\n",
       "    <tr>\n",
       "      <th>7</th>\n",
       "      <td>Talabat: Food Delivery</td>\n",
       "      <td>FOOD_AND_DRINK</td>\n",
       "      <td>4.495084763</td>\n",
       "      <td>142618</td>\n",
       "      <td>5,000,000+</td>\n",
       "      <td>Varies with device</td>\n",
       "      <td>0</td>\n",
       "      <td>Everyone</td>\n",
       "      <td>March 31, 2019</td>\n",
       "      <td>Varies with device</td>\n",
       "      <td>Varies with device</td>\n",
       "      <td>NaN</td>\n",
       "      <td>NaN</td>\n",
       "      <td>NaN</td>\n",
       "      <td>NaN</td>\n",
       "    </tr>\n",
       "    <tr>\n",
       "      <th>8</th>\n",
       "      <td>Fast Food Locator | Worldwide Fast Food Finder</td>\n",
       "      <td>TRAVEL_AND_LOCAL</td>\n",
       "      <td>3.811764717</td>\n",
       "      <td>85</td>\n",
       "      <td>10,000+</td>\n",
       "      <td>4.1M</td>\n",
       "      <td>0</td>\n",
       "      <td>Everyone</td>\n",
       "      <td>February 10, 2019</td>\n",
       "      <td>4.3 and up</td>\n",
       "      <td>2.4</td>\n",
       "      <td>NaN</td>\n",
       "      <td>NaN</td>\n",
       "      <td>NaN</td>\n",
       "      <td>NaN</td>\n",
       "    </tr>\n",
       "    <tr>\n",
       "      <th>9</th>\n",
       "      <td>Allrecipes Dinner Spinner</td>\n",
       "      <td>FOOD_AND_DRINK</td>\n",
       "      <td>4.545353413</td>\n",
       "      <td>67514</td>\n",
       "      <td>5,000,000+</td>\n",
       "      <td>Varies with device</td>\n",
       "      <td>0</td>\n",
       "      <td>Everyone</td>\n",
       "      <td>March 7, 2019</td>\n",
       "      <td>Varies with device</td>\n",
       "      <td>Varies with device</td>\n",
       "      <td>NaN</td>\n",
       "      <td>NaN</td>\n",
       "      <td>NaN</td>\n",
       "      <td>NaN</td>\n",
       "    </tr>\n",
       "    <tr>\n",
       "      <th>10</th>\n",
       "      <td>???????????????????</td>\n",
       "      <td>FOOD_AND_DRINK</td>\n",
       "      <td>4.511622429</td>\n",
       "      <td>28996</td>\n",
       "      <td>1,000,000+</td>\n",
       "      <td>Varies with device</td>\n",
       "      <td>0</td>\n",
       "      <td>Everyone</td>\n",
       "      <td>April 2, 2019</td>\n",
       "      <td>4.1 and up</td>\n",
       "      <td>6.6.0</td>\n",
       "      <td>NaN</td>\n",
       "      <td>NaN</td>\n",
       "      <td>NaN</td>\n",
       "      <td>NaN</td>\n",
       "    </tr>\n",
       "    <tr>\n",
       "      <th>11</th>\n",
       "      <td>Eat24 Food Delivery &amp; Takeout</td>\n",
       "      <td>FOOD_AND_DRINK</td>\n",
       "      <td>4.325407505</td>\n",
       "      <td>41637</td>\n",
       "      <td>1,000,000+</td>\n",
       "      <td>Varies with device</td>\n",
       "      <td>0</td>\n",
       "      <td>Everyone</td>\n",
       "      <td>March 28, 2019</td>\n",
       "      <td>Varies with device</td>\n",
       "      <td>Varies with device</td>\n",
       "      <td>NaN</td>\n",
       "      <td>NaN</td>\n",
       "      <td>NaN</td>\n",
       "      <td>NaN</td>\n",
       "    </tr>\n",
       "    <tr>\n",
       "      <th>12</th>\n",
       "      <td>FreshDirect</td>\n",
       "      <td>LIFESTYLE</td>\n",
       "      <td>3.213527918</td>\n",
       "      <td>754</td>\n",
       "      <td>100,000+</td>\n",
       "      <td>39M</td>\n",
       "      <td>0</td>\n",
       "      <td>Everyone</td>\n",
       "      <td>March 27, 2019</td>\n",
       "      <td>5.0 and up</td>\n",
       "      <td>6.7</td>\n",
       "      <td>NaN</td>\n",
       "      <td>NaN</td>\n",
       "      <td>NaN</td>\n",
       "      <td>NaN</td>\n",
       "    </tr>\n",
       "    <tr>\n",
       "      <th>13</th>\n",
       "      <td>Easy Healthy Recipes for free app</td>\n",
       "      <td>FOOD_AND_DRINK</td>\n",
       "      <td>4.160278797</td>\n",
       "      <td>287</td>\n",
       "      <td>100,000+</td>\n",
       "      <td>8.1M</td>\n",
       "      <td>0</td>\n",
       "      <td>Everyone</td>\n",
       "      <td>March 7, 2019</td>\n",
       "      <td>4.0 and up</td>\n",
       "      <td>25.5.0</td>\n",
       "      <td>NaN</td>\n",
       "      <td>NaN</td>\n",
       "      <td>NaN</td>\n",
       "      <td>NaN</td>\n",
       "    </tr>\n",
       "    <tr>\n",
       "      <th>14</th>\n",
       "      <td>Domino's Pizza USA</td>\n",
       "      <td>FOOD_AND_DRINK</td>\n",
       "      <td>4.739675045</td>\n",
       "      <td>1.17704e+06</td>\n",
       "      <td>10,000,000+</td>\n",
       "      <td>Varies with device</td>\n",
       "      <td>0</td>\n",
       "      <td>Everyone</td>\n",
       "      <td>February 26, 2019</td>\n",
       "      <td>Varies with device</td>\n",
       "      <td>Varies with device</td>\n",
       "      <td>NaN</td>\n",
       "      <td>NaN</td>\n",
       "      <td>NaN</td>\n",
       "      <td>NaN</td>\n",
       "    </tr>\n",
       "    <tr>\n",
       "      <th>15</th>\n",
       "      <td>iFood - Delivery de Comida</td>\n",
       "      <td>FOOD_AND_DRINK</td>\n",
       "      <td>4.630653858</td>\n",
       "      <td>1.28204e+06</td>\n",
       "      <td>10,000,000+</td>\n",
       "      <td>Varies with device</td>\n",
       "      <td>0</td>\n",
       "      <td>Everyone</td>\n",
       "      <td>April 2, 2019</td>\n",
       "      <td>Varies with device</td>\n",
       "      <td>Varies with device</td>\n",
       "      <td>NaN</td>\n",
       "      <td>NaN</td>\n",
       "      <td>NaN</td>\n",
       "      <td>NaN</td>\n",
       "    </tr>\n",
       "    <tr>\n",
       "      <th>16</th>\n",
       "      <td>Chick-fil-A</td>\n",
       "      <td>FOOD_AND_DRINK</td>\n",
       "      <td>4.374690533</td>\n",
       "      <td>52526</td>\n",
       "      <td>5,000,000+</td>\n",
       "      <td>19M</td>\n",
       "      <td>0</td>\n",
       "      <td>Everyone</td>\n",
       "      <td>March 21, 2019</td>\n",
       "      <td>5.0 and up</td>\n",
       "      <td>6.1.0</td>\n",
       "      <td>NaN</td>\n",
       "      <td>NaN</td>\n",
       "      <td>NaN</td>\n",
       "      <td>NaN</td>\n",
       "    </tr>\n",
       "    <tr>\n",
       "      <th>17</th>\n",
       "      <td>Kitchen Stories - Recipes &amp; Cooking</td>\n",
       "      <td>FOOD_AND_DRINK</td>\n",
       "      <td>4.614589691</td>\n",
       "      <td>24291</td>\n",
       "      <td>1,000,000+</td>\n",
       "      <td>Varies with device</td>\n",
       "      <td>0</td>\n",
       "      <td>Everyone</td>\n",
       "      <td>December 10, 2018</td>\n",
       "      <td>5.0 and up</td>\n",
       "      <td>Varies with device</td>\n",
       "      <td>NaN</td>\n",
       "      <td>NaN</td>\n",
       "      <td>NaN</td>\n",
       "      <td>NaN</td>\n",
       "    </tr>\n",
       "    <tr>\n",
       "      <th>18</th>\n",
       "      <td>Seamless: Restaurant Takeout &amp; Food Delivery App</td>\n",
       "      <td>FOOD_AND_DRINK</td>\n",
       "      <td>4.517921925</td>\n",
       "      <td>41597</td>\n",
       "      <td>1,000,000+</td>\n",
       "      <td>30M</td>\n",
       "      <td>0</td>\n",
       "      <td>Everyone</td>\n",
       "      <td>March 28, 2019</td>\n",
       "      <td>5.0 and up</td>\n",
       "      <td>7.3</td>\n",
       "      <td>NaN</td>\n",
       "      <td>NaN</td>\n",
       "      <td>NaN</td>\n",
       "      <td>NaN</td>\n",
       "    </tr>\n",
       "    <tr>\n",
       "      <th>19</th>\n",
       "      <td>Food Planner</td>\n",
       "      <td>FOOD_AND_DRINK</td>\n",
       "      <td>3.909141541</td>\n",
       "      <td>10764</td>\n",
       "      <td>1,000,000+</td>\n",
       "      <td>11M</td>\n",
       "      <td>0</td>\n",
       "      <td>Everyone</td>\n",
       "      <td>April 1, 2019</td>\n",
       "      <td>4.0.3 and up</td>\n",
       "      <td>5.1.3.0-google</td>\n",
       "      <td>NaN</td>\n",
       "      <td>NaN</td>\n",
       "      <td>NaN</td>\n",
       "      <td>NaN</td>\n",
       "    </tr>\n",
       "    <tr>\n",
       "      <th>20</th>\n",
       "      <td>Cookpad - Create your own Recipes</td>\n",
       "      <td>FOOD_AND_DRINK</td>\n",
       "      <td>4.514294147</td>\n",
       "      <td>164089</td>\n",
       "      <td>10,000,000+</td>\n",
       "      <td>11M</td>\n",
       "      <td>0</td>\n",
       "      <td>Everyone</td>\n",
       "      <td>April 2, 2019</td>\n",
       "      <td>4.4 and up</td>\n",
       "      <td>2.106.4.0-android</td>\n",
       "      <td>NaN</td>\n",
       "      <td>NaN</td>\n",
       "      <td>NaN</td>\n",
       "      <td>NaN</td>\n",
       "    </tr>\n",
       "    <tr>\n",
       "      <th>21</th>\n",
       "      <td>Zomato - Restaurant Finder and Food Delivery App</td>\n",
       "      <td>FOOD_AND_DRINK</td>\n",
       "      <td>4.32782793</td>\n",
       "      <td>1.52168e+06</td>\n",
       "      <td>50,000,000+</td>\n",
       "      <td>Varies with device</td>\n",
       "      <td>0</td>\n",
       "      <td>Everyone</td>\n",
       "      <td>March 23, 2019</td>\n",
       "      <td>Varies with device</td>\n",
       "      <td>Varies with device</td>\n",
       "      <td>NaN</td>\n",
       "      <td>NaN</td>\n",
       "      <td>NaN</td>\n",
       "      <td>NaN</td>\n",
       "    </tr>\n",
       "    <tr>\n",
       "      <th>22</th>\n",
       "      <td>Schwan's Food Delivery</td>\n",
       "      <td>SHOPPING</td>\n",
       "      <td>4.248818398</td>\n",
       "      <td>4867</td>\n",
       "      <td>500,000+</td>\n",
       "      <td>23M</td>\n",
       "      <td>0</td>\n",
       "      <td>Everyone</td>\n",
       "      <td>November 29, 2018</td>\n",
       "      <td>4.0.3 and up</td>\n",
       "      <td>2.1.2</td>\n",
       "      <td>NaN</td>\n",
       "      <td>NaN</td>\n",
       "      <td>NaN</td>\n",
       "      <td>NaN</td>\n",
       "    </tr>\n",
       "    <tr>\n",
       "      <th>23</th>\n",
       "      <td>Google Express - Shopping done fast</td>\n",
       "      <td>SHOPPING</td>\n",
       "      <td>3.813571692</td>\n",
       "      <td>8223</td>\n",
       "      <td>1,000,000+</td>\n",
       "      <td>14M</td>\n",
       "      <td>0</td>\n",
       "      <td>Everyone</td>\n",
       "      <td>March 26, 2019</td>\n",
       "      <td>4.2 and up</td>\n",
       "      <td>v42 (March 15, 2019)</td>\n",
       "      <td>NaN</td>\n",
       "      <td>NaN</td>\n",
       "      <td>NaN</td>\n",
       "      <td>NaN</td>\n",
       "    </tr>\n",
       "    <tr>\n",
       "      <th>24</th>\n",
       "      <td>Amazon Prime Now</td>\n",
       "      <td>SHOPPING</td>\n",
       "      <td>3.924423456</td>\n",
       "      <td>24849</td>\n",
       "      <td>10,000,000+</td>\n",
       "      <td>38M</td>\n",
       "      <td>0</td>\n",
       "      <td>Teen</td>\n",
       "      <td>March 15, 2019</td>\n",
       "      <td>5.0 and up</td>\n",
       "      <td>4.17.0</td>\n",
       "      <td>NaN</td>\n",
       "      <td>NaN</td>\n",
       "      <td>NaN</td>\n",
       "      <td>NaN</td>\n",
       "    </tr>\n",
       "    <tr>\n",
       "      <th>25</th>\n",
       "      <td>BeyondMenu Food Delivery</td>\n",
       "      <td>FOOD_AND_DRINK</td>\n",
       "      <td>4.689526558</td>\n",
       "      <td>62730</td>\n",
       "      <td>1,000,000+</td>\n",
       "      <td>15M</td>\n",
       "      <td>0</td>\n",
       "      <td>Everyone</td>\n",
       "      <td>April 2, 2019</td>\n",
       "      <td>5.0 and up</td>\n",
       "      <td>2.61</td>\n",
       "      <td>NaN</td>\n",
       "      <td>NaN</td>\n",
       "      <td>NaN</td>\n",
       "      <td>NaN</td>\n",
       "    </tr>\n",
       "    <tr>\n",
       "      <th>26</th>\n",
       "      <td>Walmart</td>\n",
       "      <td>SHOPPING</td>\n",
       "      <td>4.420088291</td>\n",
       "      <td>467761</td>\n",
       "      <td>10,000,000+</td>\n",
       "      <td>55M</td>\n",
       "      <td>0</td>\n",
       "      <td>Everyone</td>\n",
       "      <td>March 28, 2019</td>\n",
       "      <td>Varies with device</td>\n",
       "      <td>19.11</td>\n",
       "      <td>NaN</td>\n",
       "      <td>NaN</td>\n",
       "      <td>NaN</td>\n",
       "      <td>NaN</td>\n",
       "    </tr>\n",
       "    <tr>\n",
       "      <th>27</th>\n",
       "      <td>DELISH KITCHEN - ??????????????????</td>\n",
       "      <td>FOOD_AND_DRINK</td>\n",
       "      <td>4.568304539</td>\n",
       "      <td>39280</td>\n",
       "      <td>1,000,000+</td>\n",
       "      <td>7.8M</td>\n",
       "      <td>0</td>\n",
       "      <td>Everyone</td>\n",
       "      <td>March 31, 2019</td>\n",
       "      <td>4.1 and up</td>\n",
       "      <td>2.5.7</td>\n",
       "      <td>NaN</td>\n",
       "      <td>NaN</td>\n",
       "      <td>NaN</td>\n",
       "      <td>NaN</td>\n",
       "    </tr>\n",
       "    <tr>\n",
       "      <th>28</th>\n",
       "      <td>Grubhub: Local Food Delivery &amp; Restaurant Takeout</td>\n",
       "      <td>FOOD_AND_DRINK</td>\n",
       "      <td>4.397297859</td>\n",
       "      <td>217693</td>\n",
       "      <td>10,000,000+</td>\n",
       "      <td>30M</td>\n",
       "      <td>0</td>\n",
       "      <td>Everyone</td>\n",
       "      <td>March 28, 2019</td>\n",
       "      <td>5.0 and up</td>\n",
       "      <td>7.3</td>\n",
       "      <td>NaN</td>\n",
       "      <td>NaN</td>\n",
       "      <td>NaN</td>\n",
       "      <td>NaN</td>\n",
       "    </tr>\n",
       "    <tr>\n",
       "      <th>29</th>\n",
       "      <td>OpenTable: Restaurants Near Me</td>\n",
       "      <td>FOOD_AND_DRINK</td>\n",
       "      <td>4.599673271</td>\n",
       "      <td>103468</td>\n",
       "      <td>5,000,000+</td>\n",
       "      <td>17M</td>\n",
       "      <td>0</td>\n",
       "      <td>Everyone</td>\n",
       "      <td>March 29, 2019</td>\n",
       "      <td>5.0 and up</td>\n",
       "      <td>10.13.1.2500</td>\n",
       "      <td>NaN</td>\n",
       "      <td>NaN</td>\n",
       "      <td>NaN</td>\n",
       "      <td>NaN</td>\n",
       "    </tr>\n",
       "  </tbody>\n",
       "</table>\n",
       "</div>"
      ],
      "text/plain": [
       "                                             App Name          Category  \\\n",
       "0                            DoorDash - Food Delivery    FOOD_AND_DRINK   \n",
       "1   TripAdvisor Hotels Flights Restaurants Attract...  TRAVEL_AND_LOCAL   \n",
       "2                                              Peapod          SHOPPING   \n",
       "3                     foodpanda - Local Food Delivery    FOOD_AND_DRINK   \n",
       "4                           My CookBook Pro (Ad Free)    FOOD_AND_DRINK   \n",
       "5                             Safeway Online Shopping    FOOD_AND_DRINK   \n",
       "6               Yelp: Food, Shopping, Services Nearby  TRAVEL_AND_LOCAL   \n",
       "7                              Talabat: Food Delivery    FOOD_AND_DRINK   \n",
       "8      Fast Food Locator | Worldwide Fast Food Finder  TRAVEL_AND_LOCAL   \n",
       "9                           Allrecipes Dinner Spinner    FOOD_AND_DRINK   \n",
       "10                                ???????????????????    FOOD_AND_DRINK   \n",
       "11                      Eat24 Food Delivery & Takeout    FOOD_AND_DRINK   \n",
       "12                                        FreshDirect         LIFESTYLE   \n",
       "13                  Easy Healthy Recipes for free app    FOOD_AND_DRINK   \n",
       "14                                 Domino's Pizza USA    FOOD_AND_DRINK   \n",
       "15                         iFood - Delivery de Comida    FOOD_AND_DRINK   \n",
       "16                                        Chick-fil-A    FOOD_AND_DRINK   \n",
       "17                Kitchen Stories - Recipes & Cooking    FOOD_AND_DRINK   \n",
       "18   Seamless: Restaurant Takeout & Food Delivery App    FOOD_AND_DRINK   \n",
       "19                                       Food Planner    FOOD_AND_DRINK   \n",
       "20                  Cookpad - Create your own Recipes    FOOD_AND_DRINK   \n",
       "21   Zomato - Restaurant Finder and Food Delivery App    FOOD_AND_DRINK   \n",
       "22                             Schwan's Food Delivery          SHOPPING   \n",
       "23                Google Express - Shopping done fast          SHOPPING   \n",
       "24                                   Amazon Prime Now          SHOPPING   \n",
       "25                           BeyondMenu Food Delivery    FOOD_AND_DRINK   \n",
       "26                                            Walmart          SHOPPING   \n",
       "27                DELISH KITCHEN - ??????????????????    FOOD_AND_DRINK   \n",
       "28  Grubhub: Local Food Delivery & Restaurant Takeout    FOOD_AND_DRINK   \n",
       "29                     OpenTable: Restaurants Near Me    FOOD_AND_DRINK   \n",
       "\n",
       "         Rating      Reviews      Installs                Size  Price  \\\n",
       "0   4.548561573       305034    5,000,000+  Varies with device      0   \n",
       "1   4.400671482  1.20792e+06  100,000,000+  Varies with device      0   \n",
       "2   3.656329393         1967      100,000+                1.4M      0   \n",
       "3   4.107232571       389154   10,000,000+                 16M      0   \n",
       "4   4.647752285         2291       10,000+  Varies with device  $5.99   \n",
       "5    3.82532239         2559      100,000+                 23M      0   \n",
       "6   4.267267704       421918   10,000,000+  Varies with device      0   \n",
       "7   4.495084763       142618    5,000,000+  Varies with device      0   \n",
       "8   3.811764717           85       10,000+                4.1M      0   \n",
       "9   4.545353413        67514    5,000,000+  Varies with device      0   \n",
       "10  4.511622429        28996    1,000,000+  Varies with device      0   \n",
       "11  4.325407505        41637    1,000,000+  Varies with device      0   \n",
       "12  3.213527918          754      100,000+                 39M      0   \n",
       "13  4.160278797          287      100,000+                8.1M      0   \n",
       "14  4.739675045  1.17704e+06   10,000,000+  Varies with device      0   \n",
       "15  4.630653858  1.28204e+06   10,000,000+  Varies with device      0   \n",
       "16  4.374690533        52526    5,000,000+                 19M      0   \n",
       "17  4.614589691        24291    1,000,000+  Varies with device      0   \n",
       "18  4.517921925        41597    1,000,000+                 30M      0   \n",
       "19  3.909141541        10764    1,000,000+                 11M      0   \n",
       "20  4.514294147       164089   10,000,000+                 11M      0   \n",
       "21   4.32782793  1.52168e+06   50,000,000+  Varies with device      0   \n",
       "22  4.248818398         4867      500,000+                 23M      0   \n",
       "23  3.813571692         8223    1,000,000+                 14M      0   \n",
       "24  3.924423456        24849   10,000,000+                 38M      0   \n",
       "25  4.689526558        62730    1,000,000+                 15M      0   \n",
       "26  4.420088291       467761   10,000,000+                 55M      0   \n",
       "27  4.568304539        39280    1,000,000+                7.8M      0   \n",
       "28  4.397297859       217693   10,000,000+                 30M      0   \n",
       "29  4.599673271       103468    5,000,000+                 17M      0   \n",
       "\n",
       "   Content Rating        Last Updated     Minimum Version  \\\n",
       "0        Everyone      March 29, 2019  Varies with device   \n",
       "1        Everyone      March 29, 2019  Varies with device   \n",
       "2        Everyone  September 20, 2018          5.0 and up   \n",
       "3        Everyone      March 22, 2019          4.2 and up   \n",
       "4        Everyone       April 1, 2019  Varies with device   \n",
       "5        Everyone      March 29, 2019          5.0 and up   \n",
       "6            Teen      March 28, 2019  Varies with device   \n",
       "7        Everyone      March 31, 2019  Varies with device   \n",
       "8        Everyone   February 10, 2019          4.3 and up   \n",
       "9        Everyone       March 7, 2019  Varies with device   \n",
       "10       Everyone       April 2, 2019          4.1 and up   \n",
       "11       Everyone      March 28, 2019  Varies with device   \n",
       "12       Everyone      March 27, 2019          5.0 and up   \n",
       "13       Everyone       March 7, 2019          4.0 and up   \n",
       "14       Everyone   February 26, 2019  Varies with device   \n",
       "15       Everyone       April 2, 2019  Varies with device   \n",
       "16       Everyone      March 21, 2019          5.0 and up   \n",
       "17       Everyone   December 10, 2018          5.0 and up   \n",
       "18       Everyone      March 28, 2019          5.0 and up   \n",
       "19       Everyone       April 1, 2019        4.0.3 and up   \n",
       "20       Everyone       April 2, 2019          4.4 and up   \n",
       "21       Everyone      March 23, 2019  Varies with device   \n",
       "22       Everyone   November 29, 2018        4.0.3 and up   \n",
       "23       Everyone      March 26, 2019          4.2 and up   \n",
       "24           Teen      March 15, 2019          5.0 and up   \n",
       "25       Everyone       April 2, 2019          5.0 and up   \n",
       "26       Everyone      March 28, 2019  Varies with device   \n",
       "27       Everyone      March 31, 2019          4.1 and up   \n",
       "28       Everyone      March 28, 2019          5.0 and up   \n",
       "29       Everyone      March 29, 2019          5.0 and up   \n",
       "\n",
       "          Latest Version Unnamed: 11 Unnamed: 12 Unnamed: 13  Unnamed: 14  \n",
       "0     Varies with device         NaN         NaN         NaN          NaN  \n",
       "1     Varies with device         NaN         NaN         NaN          NaN  \n",
       "2                  2.2.0         NaN         NaN         NaN          NaN  \n",
       "3                 4.18.2         NaN         NaN         NaN          NaN  \n",
       "4     Varies with device         NaN         NaN         NaN          NaN  \n",
       "5                  7.6.0         NaN         NaN         NaN          NaN  \n",
       "6     Varies with device         NaN         NaN         NaN          NaN  \n",
       "7     Varies with device         NaN         NaN         NaN          NaN  \n",
       "8                    2.4         NaN         NaN         NaN          NaN  \n",
       "9     Varies with device         NaN         NaN         NaN          NaN  \n",
       "10                 6.6.0         NaN         NaN         NaN          NaN  \n",
       "11    Varies with device         NaN         NaN         NaN          NaN  \n",
       "12                   6.7         NaN         NaN         NaN          NaN  \n",
       "13                25.5.0         NaN         NaN         NaN          NaN  \n",
       "14    Varies with device         NaN         NaN         NaN          NaN  \n",
       "15    Varies with device         NaN         NaN         NaN          NaN  \n",
       "16                 6.1.0         NaN         NaN         NaN          NaN  \n",
       "17    Varies with device         NaN         NaN         NaN          NaN  \n",
       "18                   7.3         NaN         NaN         NaN          NaN  \n",
       "19        5.1.3.0-google         NaN         NaN         NaN          NaN  \n",
       "20     2.106.4.0-android         NaN         NaN         NaN          NaN  \n",
       "21    Varies with device         NaN         NaN         NaN          NaN  \n",
       "22                 2.1.2         NaN         NaN         NaN          NaN  \n",
       "23  v42 (March 15, 2019)         NaN         NaN         NaN          NaN  \n",
       "24                4.17.0         NaN         NaN         NaN          NaN  \n",
       "25                  2.61         NaN         NaN         NaN          NaN  \n",
       "26                 19.11         NaN         NaN         NaN          NaN  \n",
       "27                 2.5.7         NaN         NaN         NaN          NaN  \n",
       "28                   7.3         NaN         NaN         NaN          NaN  \n",
       "29          10.13.1.2500         NaN         NaN         NaN          NaN  "
      ]
     },
     "execution_count": 3,
     "metadata": {},
     "output_type": "execute_result"
    }
   ],
   "source": [
    "data.head(30)"
   ]
  },
  {
   "cell_type": "code",
   "execution_count": 4,
   "metadata": {},
   "outputs": [
    {
     "data": {
      "text/plain": [
       "1.0.1                 2\n",
       "1.0.0                 2\n",
       "Varies with device    2\n",
       "Everyone              1\n",
       "1.1                   1\n",
       "1.2                   1\n",
       "4.0.3 and up          1\n",
       "2.2.0                 1\n",
       "4.0.1                 1\n",
       "1.15.1                1\n",
       "1.6                   1\n",
       "4.0.0.0               1\n",
       "2.3                   1\n",
       "1.54                  1\n",
       "April 2, 2019         1\n",
       "Name: Unnamed: 11, dtype: int64"
      ]
     },
     "execution_count": 4,
     "metadata": {},
     "output_type": "execute_result"
    }
   ],
   "source": [
    "data['Unnamed: 11'].value_counts()"
   ]
  },
  {
   "cell_type": "code",
   "execution_count": 5,
   "metadata": {},
   "outputs": [
    {
     "data": {
      "text/plain": [
       "February 14, 2019    1\n",
       "4.4 and up           1\n",
       "1.0                  1\n",
       "Name: Unnamed: 12, dtype: int64"
      ]
     },
     "execution_count": 5,
     "metadata": {},
     "output_type": "execute_result"
    }
   ],
   "source": [
    "data['Unnamed: 12'].value_counts()"
   ]
  },
  {
   "cell_type": "code",
   "execution_count": 6,
   "metadata": {},
   "outputs": [
    {
     "data": {
      "text/plain": [
       "4.4 and up    1\n",
       "9.0.3         1\n",
       "Name: Unnamed: 13, dtype: int64"
      ]
     },
     "execution_count": 6,
     "metadata": {},
     "output_type": "execute_result"
    }
   ],
   "source": [
    "data['Unnamed: 13'].value_counts()"
   ]
  },
  {
   "cell_type": "code",
   "execution_count": 7,
   "metadata": {},
   "outputs": [
    {
     "data": {
      "text/plain": [
       "9.1    1\n",
       "Name: Unnamed: 14, dtype: int64"
      ]
     },
     "execution_count": 7,
     "metadata": {},
     "output_type": "execute_result"
    }
   ],
   "source": [
    "data['Unnamed: 14'].value_counts()"
   ]
  },
  {
   "cell_type": "code",
   "execution_count": 8,
   "metadata": {},
   "outputs": [
    {
     "data": {
      "text/plain": [
       "(267052, 15)"
      ]
     },
     "execution_count": 8,
     "metadata": {},
     "output_type": "execute_result"
    }
   ],
   "source": [
    "data.shape"
   ]
  },
  {
   "cell_type": "code",
   "execution_count": 9,
   "metadata": {},
   "outputs": [],
   "source": [
    "data=data.fillna(0)"
   ]
  },
  {
   "cell_type": "code",
   "execution_count": 10,
   "metadata": {},
   "outputs": [],
   "source": [
    "mask=(data['Unnamed: 11']==0) & (data['Unnamed: 12']==0) & (data['Unnamed: 13']==0) & (data['Unnamed: 14']==0)\n",
    "data=data[mask]"
   ]
  },
  {
   "cell_type": "code",
   "execution_count": 11,
   "metadata": {},
   "outputs": [
    {
     "data": {
      "text/plain": [
       "(267034, 15)"
      ]
     },
     "execution_count": 11,
     "metadata": {},
     "output_type": "execute_result"
    }
   ],
   "source": [
    "data.shape"
   ]
  },
  {
   "cell_type": "code",
   "execution_count": 12,
   "metadata": {},
   "outputs": [
    {
     "data": {
      "text/html": [
       "<div>\n",
       "<style scoped>\n",
       "    .dataframe tbody tr th:only-of-type {\n",
       "        vertical-align: middle;\n",
       "    }\n",
       "\n",
       "    .dataframe tbody tr th {\n",
       "        vertical-align: top;\n",
       "    }\n",
       "\n",
       "    .dataframe thead th {\n",
       "        text-align: right;\n",
       "    }\n",
       "</style>\n",
       "<table border=\"1\" class=\"dataframe\">\n",
       "  <thead>\n",
       "    <tr style=\"text-align: right;\">\n",
       "      <th></th>\n",
       "      <th>App Name</th>\n",
       "      <th>Category</th>\n",
       "      <th>Rating</th>\n",
       "      <th>Reviews</th>\n",
       "      <th>Installs</th>\n",
       "      <th>Size</th>\n",
       "      <th>Price</th>\n",
       "      <th>Content Rating</th>\n",
       "      <th>Last Updated</th>\n",
       "      <th>Minimum Version</th>\n",
       "      <th>Latest Version</th>\n",
       "      <th>Unnamed: 11</th>\n",
       "      <th>Unnamed: 12</th>\n",
       "      <th>Unnamed: 13</th>\n",
       "      <th>Unnamed: 14</th>\n",
       "    </tr>\n",
       "  </thead>\n",
       "  <tbody>\n",
       "    <tr>\n",
       "      <th>0</th>\n",
       "      <td>DoorDash - Food Delivery</td>\n",
       "      <td>FOOD_AND_DRINK</td>\n",
       "      <td>4.548561573</td>\n",
       "      <td>305034</td>\n",
       "      <td>5,000,000+</td>\n",
       "      <td>Varies with device</td>\n",
       "      <td>0</td>\n",
       "      <td>Everyone</td>\n",
       "      <td>March 29, 2019</td>\n",
       "      <td>Varies with device</td>\n",
       "      <td>Varies with device</td>\n",
       "      <td>0</td>\n",
       "      <td>0</td>\n",
       "      <td>0</td>\n",
       "      <td>0.0</td>\n",
       "    </tr>\n",
       "    <tr>\n",
       "      <th>1</th>\n",
       "      <td>TripAdvisor Hotels Flights Restaurants Attract...</td>\n",
       "      <td>TRAVEL_AND_LOCAL</td>\n",
       "      <td>4.400671482</td>\n",
       "      <td>1.20792e+06</td>\n",
       "      <td>100,000,000+</td>\n",
       "      <td>Varies with device</td>\n",
       "      <td>0</td>\n",
       "      <td>Everyone</td>\n",
       "      <td>March 29, 2019</td>\n",
       "      <td>Varies with device</td>\n",
       "      <td>Varies with device</td>\n",
       "      <td>0</td>\n",
       "      <td>0</td>\n",
       "      <td>0</td>\n",
       "      <td>0.0</td>\n",
       "    </tr>\n",
       "    <tr>\n",
       "      <th>2</th>\n",
       "      <td>Peapod</td>\n",
       "      <td>SHOPPING</td>\n",
       "      <td>3.656329393</td>\n",
       "      <td>1967</td>\n",
       "      <td>100,000+</td>\n",
       "      <td>1.4M</td>\n",
       "      <td>0</td>\n",
       "      <td>Everyone</td>\n",
       "      <td>September 20, 2018</td>\n",
       "      <td>5.0 and up</td>\n",
       "      <td>2.2.0</td>\n",
       "      <td>0</td>\n",
       "      <td>0</td>\n",
       "      <td>0</td>\n",
       "      <td>0.0</td>\n",
       "    </tr>\n",
       "    <tr>\n",
       "      <th>3</th>\n",
       "      <td>foodpanda - Local Food Delivery</td>\n",
       "      <td>FOOD_AND_DRINK</td>\n",
       "      <td>4.107232571</td>\n",
       "      <td>389154</td>\n",
       "      <td>10,000,000+</td>\n",
       "      <td>16M</td>\n",
       "      <td>0</td>\n",
       "      <td>Everyone</td>\n",
       "      <td>March 22, 2019</td>\n",
       "      <td>4.2 and up</td>\n",
       "      <td>4.18.2</td>\n",
       "      <td>0</td>\n",
       "      <td>0</td>\n",
       "      <td>0</td>\n",
       "      <td>0.0</td>\n",
       "    </tr>\n",
       "    <tr>\n",
       "      <th>4</th>\n",
       "      <td>My CookBook Pro (Ad Free)</td>\n",
       "      <td>FOOD_AND_DRINK</td>\n",
       "      <td>4.647752285</td>\n",
       "      <td>2291</td>\n",
       "      <td>10,000+</td>\n",
       "      <td>Varies with device</td>\n",
       "      <td>$5.99</td>\n",
       "      <td>Everyone</td>\n",
       "      <td>April 1, 2019</td>\n",
       "      <td>Varies with device</td>\n",
       "      <td>Varies with device</td>\n",
       "      <td>0</td>\n",
       "      <td>0</td>\n",
       "      <td>0</td>\n",
       "      <td>0.0</td>\n",
       "    </tr>\n",
       "  </tbody>\n",
       "</table>\n",
       "</div>"
      ],
      "text/plain": [
       "                                            App Name          Category  \\\n",
       "0                           DoorDash - Food Delivery    FOOD_AND_DRINK   \n",
       "1  TripAdvisor Hotels Flights Restaurants Attract...  TRAVEL_AND_LOCAL   \n",
       "2                                             Peapod          SHOPPING   \n",
       "3                    foodpanda - Local Food Delivery    FOOD_AND_DRINK   \n",
       "4                          My CookBook Pro (Ad Free)    FOOD_AND_DRINK   \n",
       "\n",
       "        Rating      Reviews      Installs                Size  Price  \\\n",
       "0  4.548561573       305034    5,000,000+  Varies with device      0   \n",
       "1  4.400671482  1.20792e+06  100,000,000+  Varies with device      0   \n",
       "2  3.656329393         1967      100,000+                1.4M      0   \n",
       "3  4.107232571       389154   10,000,000+                 16M      0   \n",
       "4  4.647752285         2291       10,000+  Varies with device  $5.99   \n",
       "\n",
       "  Content Rating        Last Updated     Minimum Version      Latest Version  \\\n",
       "0       Everyone      March 29, 2019  Varies with device  Varies with device   \n",
       "1       Everyone      March 29, 2019  Varies with device  Varies with device   \n",
       "2       Everyone  September 20, 2018          5.0 and up               2.2.0   \n",
       "3       Everyone      March 22, 2019          4.2 and up              4.18.2   \n",
       "4       Everyone       April 1, 2019  Varies with device  Varies with device   \n",
       "\n",
       "  Unnamed: 11 Unnamed: 12 Unnamed: 13  Unnamed: 14  \n",
       "0           0           0           0          0.0  \n",
       "1           0           0           0          0.0  \n",
       "2           0           0           0          0.0  \n",
       "3           0           0           0          0.0  \n",
       "4           0           0           0          0.0  "
      ]
     },
     "execution_count": 12,
     "metadata": {},
     "output_type": "execute_result"
    }
   ],
   "source": [
    "data.head()"
   ]
  },
  {
   "cell_type": "code",
   "execution_count": 13,
   "metadata": {},
   "outputs": [],
   "source": [
    "data.drop(columns=['Unnamed: 11','Unnamed: 12','Unnamed: 13','Unnamed: 14','Latest Version','Last Updated'], inplace=True)"
   ]
  },
  {
   "cell_type": "code",
   "execution_count": 14,
   "metadata": {},
   "outputs": [
    {
     "data": {
      "text/plain": [
       "Index(['App Name', 'Category', 'Rating', 'Reviews', 'Installs', 'Size',\n",
       "       'Price', 'Content Rating', 'Minimum Version'],\n",
       "      dtype='object')"
      ]
     },
     "execution_count": 14,
     "metadata": {},
     "output_type": "execute_result"
    }
   ],
   "source": [
    "data.columns"
   ]
  },
  {
   "cell_type": "code",
   "execution_count": 15,
   "metadata": {},
   "outputs": [
    {
     "data": {
      "text/plain": [
       "10,000+           60531\n",
       "1,000+            48880\n",
       "100,000+          37498\n",
       "5,000+            26360\n",
       "50,000+           22795\n",
       "100+              18502\n",
       "500+              13919\n",
       "1,000,000+        12853\n",
       "500,000+           9846\n",
       "10+                4427\n",
       "50+                3871\n",
       "10,000,000+        2821\n",
       "5,000,000+         2804\n",
       "5+                  671\n",
       "1+                  445\n",
       "50,000,000+         414\n",
       "100,000,000+        283\n",
       "0+                   52\n",
       "500,000,000+         35\n",
       "1,000,000,000+       24\n",
       "5,000,000,000+        3\n",
       "Name: Installs, dtype: int64"
      ]
     },
     "execution_count": 15,
     "metadata": {},
     "output_type": "execute_result"
    }
   ],
   "source": [
    "data['Installs'].value_counts()"
   ]
  },
  {
   "cell_type": "code",
   "execution_count": 16,
   "metadata": {},
   "outputs": [
    {
     "name": "stdout",
     "output_type": "stream",
     "text": [
      "<class 'pandas.core.frame.DataFrame'>\n",
      "Int64Index: 267034 entries, 0 to 267051\n",
      "Data columns (total 9 columns):\n",
      "App Name           267034 non-null object\n",
      "Category           267034 non-null object\n",
      "Rating             267034 non-null object\n",
      "Reviews            267034 non-null object\n",
      "Installs           267034 non-null object\n",
      "Size               267034 non-null object\n",
      "Price              267034 non-null object\n",
      "Content Rating     267034 non-null object\n",
      "Minimum Version    267034 non-null object\n",
      "dtypes: object(9)\n",
      "memory usage: 20.4+ MB\n"
     ]
    }
   ],
   "source": [
    "data.info()"
   ]
  },
  {
   "cell_type": "code",
   "execution_count": 17,
   "metadata": {},
   "outputs": [],
   "source": [
    "data['Reviews']=data['Reviews'].astype('int64')"
   ]
  },
  {
   "cell_type": "code",
   "execution_count": 18,
   "metadata": {},
   "outputs": [],
   "source": [
    "data['Rating']=data['Rating'].astype(float)"
   ]
  },
  {
   "cell_type": "code",
   "execution_count": 19,
   "metadata": {},
   "outputs": [],
   "source": [
    "data.drop(columns='App Name',inplace=True)"
   ]
  },
  {
   "cell_type": "code",
   "execution_count": 20,
   "metadata": {},
   "outputs": [
    {
     "name": "stdout",
     "output_type": "stream",
     "text": [
      "<class 'pandas.core.frame.DataFrame'>\n",
      "Int64Index: 267034 entries, 0 to 267051\n",
      "Data columns (total 8 columns):\n",
      "Category           267034 non-null object\n",
      "Rating             267034 non-null float64\n",
      "Reviews            267034 non-null int64\n",
      "Installs           267034 non-null object\n",
      "Size               267034 non-null object\n",
      "Price              267034 non-null object\n",
      "Content Rating     267034 non-null object\n",
      "Minimum Version    267034 non-null object\n",
      "dtypes: float64(1), int64(1), object(6)\n",
      "memory usage: 18.3+ MB\n"
     ]
    }
   ],
   "source": [
    "data.info()"
   ]
  },
  {
   "cell_type": "code",
   "execution_count": 21,
   "metadata": {},
   "outputs": [
    {
     "data": {
      "text/plain": [
       "EDUCATION              33394\n",
       "TOOLS                  21592\n",
       "BOOKS_AND_REFERENCE    21377\n",
       "ENTERTAINMENT          20604\n",
       "MUSIC_AND_AUDIO        17876\n",
       "LIFESTYLE              15034\n",
       "PERSONALIZATION        10544\n",
       "FINANCE                10342\n",
       "BUSINESS               10230\n",
       "PRODUCTIVITY            9142\n",
       "NEWS_AND_MAGAZINES      8030\n",
       "HEALTH_AND_FITNESS      7537\n",
       "PHOTOGRAPHY             7240\n",
       "TRAVEL_AND_LOCAL        6649\n",
       "SPORTS                  5585\n",
       "COMMUNICATION           5486\n",
       "SHOPPING                5337\n",
       "SOCIAL                  4744\n",
       "MAPS_AND_NAVIGATION     4094\n",
       "MEDICAL                 3736\n",
       "GAME_PUZZLE             3620\n",
       "FOOD_AND_DRINK          3170\n",
       "VIDEO_PLAYERS           2717\n",
       "GAME_CASUAL             2426\n",
       "GAME_ARCADE             2343\n",
       "AUTO_AND_VEHICLES       2104\n",
       "GAME_EDUCATIONAL        2007\n",
       "ART_AND_DESIGN          1758\n",
       "WEATHER                 1643\n",
       "GAME_SIMULATION         1607\n",
       "GAME_ACTION             1482\n",
       "GAME_CARD               1183\n",
       "GAME_ADVENTURE          1055\n",
       "GAME_ROLE_PLAYING       1035\n",
       "GAME_BOARD               968\n",
       "BEAUTY                   959\n",
       "GAME_WORD                946\n",
       "HOUSE_AND_HOME           925\n",
       "GAME_STRATEGY            913\n",
       "GAME_RACING              778\n",
       "GAME_SPORTS              772\n",
       "GAME_TRIVIA              753\n",
       "PARENTING                621\n",
       "EVENTS                   615\n",
       "LIBRARIES_AND_DEMO       612\n",
       "COMICS                   505\n",
       "GAME_CASINO              367\n",
       "DATING                   323\n",
       "GAME_MUSIC               253\n",
       "TRAVEL                     1\n",
       "Name: Category, dtype: int64"
      ]
     },
     "execution_count": 21,
     "metadata": {},
     "output_type": "execute_result"
    }
   ],
   "source": [
    "data['Category'].value_counts()"
   ]
  },
  {
   "cell_type": "code",
   "execution_count": 22,
   "metadata": {},
   "outputs": [],
   "source": [
    "t=[]\n",
    "for i in data['Installs']:\n",
    "    a=\"\"\n",
    "    for j in i:\n",
    "        if (j!=',') & (j!='+'):\n",
    "            a+=j\n",
    "    t.append(a)"
   ]
  },
  {
   "cell_type": "code",
   "execution_count": 23,
   "metadata": {},
   "outputs": [
    {
     "data": {
      "text/plain": [
       "0           5,000,000+\n",
       "1         100,000,000+\n",
       "2             100,000+\n",
       "3          10,000,000+\n",
       "4              10,000+\n",
       "5             100,000+\n",
       "6          10,000,000+\n",
       "7           5,000,000+\n",
       "8              10,000+\n",
       "9           5,000,000+\n",
       "10          1,000,000+\n",
       "11          1,000,000+\n",
       "12            100,000+\n",
       "13            100,000+\n",
       "14         10,000,000+\n",
       "15         10,000,000+\n",
       "16          5,000,000+\n",
       "17          1,000,000+\n",
       "18          1,000,000+\n",
       "19          1,000,000+\n",
       "20         10,000,000+\n",
       "21         50,000,000+\n",
       "22            500,000+\n",
       "23          1,000,000+\n",
       "24         10,000,000+\n",
       "25          1,000,000+\n",
       "26         10,000,000+\n",
       "27          1,000,000+\n",
       "28         10,000,000+\n",
       "29          5,000,000+\n",
       "              ...     \n",
       "267022        100,000+\n",
       "267023          5,000+\n",
       "267024            100+\n",
       "267025          1,000+\n",
       "267026            100+\n",
       "267027          1,000+\n",
       "267028        500,000+\n",
       "267029             50+\n",
       "267030      1,000,000+\n",
       "267031            100+\n",
       "267032          5,000+\n",
       "267033          1,000+\n",
       "267034            100+\n",
       "267035          5,000+\n",
       "267036            500+\n",
       "267037         10,000+\n",
       "267038          5,000+\n",
       "267039          5,000+\n",
       "267040          5,000+\n",
       "267041            500+\n",
       "267042            500+\n",
       "267043          5,000+\n",
       "267044          1,000+\n",
       "267045            100+\n",
       "267046            100+\n",
       "267047            100+\n",
       "267048            500+\n",
       "267049          1,000+\n",
       "267050          1,000+\n",
       "267051          1,000+\n",
       "Name: Installs, Length: 267034, dtype: object"
      ]
     },
     "execution_count": 23,
     "metadata": {},
     "output_type": "execute_result"
    }
   ],
   "source": [
    "data['Installs']"
   ]
  },
  {
   "cell_type": "code",
   "execution_count": 24,
   "metadata": {},
   "outputs": [],
   "source": [
    "data['Installs']=t"
   ]
  },
  {
   "cell_type": "code",
   "execution_count": 25,
   "metadata": {},
   "outputs": [],
   "source": [
    "data['Installs']=data['Installs'].astype('int64')"
   ]
  },
  {
   "cell_type": "code",
   "execution_count": 26,
   "metadata": {},
   "outputs": [
    {
     "name": "stdout",
     "output_type": "stream",
     "text": [
      "<class 'pandas.core.frame.DataFrame'>\n",
      "Int64Index: 267034 entries, 0 to 267051\n",
      "Data columns (total 8 columns):\n",
      "Category           267034 non-null object\n",
      "Rating             267034 non-null float64\n",
      "Reviews            267034 non-null int64\n",
      "Installs           267034 non-null int64\n",
      "Size               267034 non-null object\n",
      "Price              267034 non-null object\n",
      "Content Rating     267034 non-null object\n",
      "Minimum Version    267034 non-null object\n",
      "dtypes: float64(1), int64(2), object(5)\n",
      "memory usage: 18.3+ MB\n"
     ]
    }
   ],
   "source": [
    "data.info()"
   ]
  },
  {
   "cell_type": "code",
   "execution_count": 27,
   "metadata": {},
   "outputs": [
    {
     "data": {
      "text/html": [
       "<div>\n",
       "<style scoped>\n",
       "    .dataframe tbody tr th:only-of-type {\n",
       "        vertical-align: middle;\n",
       "    }\n",
       "\n",
       "    .dataframe tbody tr th {\n",
       "        vertical-align: top;\n",
       "    }\n",
       "\n",
       "    .dataframe thead th {\n",
       "        text-align: right;\n",
       "    }\n",
       "</style>\n",
       "<table border=\"1\" class=\"dataframe\">\n",
       "  <thead>\n",
       "    <tr style=\"text-align: right;\">\n",
       "      <th></th>\n",
       "      <th>Category</th>\n",
       "      <th>Rating</th>\n",
       "      <th>Reviews</th>\n",
       "      <th>Installs</th>\n",
       "      <th>Size</th>\n",
       "      <th>Price</th>\n",
       "      <th>Content Rating</th>\n",
       "      <th>Minimum Version</th>\n",
       "    </tr>\n",
       "  </thead>\n",
       "  <tbody>\n",
       "    <tr>\n",
       "      <th>0</th>\n",
       "      <td>FOOD_AND_DRINK</td>\n",
       "      <td>4.548562</td>\n",
       "      <td>305034</td>\n",
       "      <td>5000000</td>\n",
       "      <td>Varies with device</td>\n",
       "      <td>0</td>\n",
       "      <td>Everyone</td>\n",
       "      <td>Varies with device</td>\n",
       "    </tr>\n",
       "    <tr>\n",
       "      <th>1</th>\n",
       "      <td>TRAVEL_AND_LOCAL</td>\n",
       "      <td>4.400671</td>\n",
       "      <td>1207922</td>\n",
       "      <td>100000000</td>\n",
       "      <td>Varies with device</td>\n",
       "      <td>0</td>\n",
       "      <td>Everyone</td>\n",
       "      <td>Varies with device</td>\n",
       "    </tr>\n",
       "    <tr>\n",
       "      <th>2</th>\n",
       "      <td>SHOPPING</td>\n",
       "      <td>3.656329</td>\n",
       "      <td>1967</td>\n",
       "      <td>100000</td>\n",
       "      <td>1.4M</td>\n",
       "      <td>0</td>\n",
       "      <td>Everyone</td>\n",
       "      <td>5.0 and up</td>\n",
       "    </tr>\n",
       "    <tr>\n",
       "      <th>3</th>\n",
       "      <td>FOOD_AND_DRINK</td>\n",
       "      <td>4.107233</td>\n",
       "      <td>389154</td>\n",
       "      <td>10000000</td>\n",
       "      <td>16M</td>\n",
       "      <td>0</td>\n",
       "      <td>Everyone</td>\n",
       "      <td>4.2 and up</td>\n",
       "    </tr>\n",
       "    <tr>\n",
       "      <th>4</th>\n",
       "      <td>FOOD_AND_DRINK</td>\n",
       "      <td>4.647752</td>\n",
       "      <td>2291</td>\n",
       "      <td>10000</td>\n",
       "      <td>Varies with device</td>\n",
       "      <td>$5.99</td>\n",
       "      <td>Everyone</td>\n",
       "      <td>Varies with device</td>\n",
       "    </tr>\n",
       "  </tbody>\n",
       "</table>\n",
       "</div>"
      ],
      "text/plain": [
       "           Category    Rating  Reviews   Installs                Size  Price  \\\n",
       "0    FOOD_AND_DRINK  4.548562   305034    5000000  Varies with device      0   \n",
       "1  TRAVEL_AND_LOCAL  4.400671  1207922  100000000  Varies with device      0   \n",
       "2          SHOPPING  3.656329     1967     100000                1.4M      0   \n",
       "3    FOOD_AND_DRINK  4.107233   389154   10000000                 16M      0   \n",
       "4    FOOD_AND_DRINK  4.647752     2291      10000  Varies with device  $5.99   \n",
       "\n",
       "  Content Rating     Minimum Version  \n",
       "0       Everyone  Varies with device  \n",
       "1       Everyone  Varies with device  \n",
       "2       Everyone          5.0 and up  \n",
       "3       Everyone          4.2 and up  \n",
       "4       Everyone  Varies with device  "
      ]
     },
     "execution_count": 27,
     "metadata": {},
     "output_type": "execute_result"
    }
   ],
   "source": [
    "data.head()"
   ]
  },
  {
   "cell_type": "code",
   "execution_count": 28,
   "metadata": {
    "scrolled": true
   },
   "outputs": [
    {
     "data": {
      "text/plain": [
       "Varies with device    11726\n",
       "11M                    7312\n",
       "12M                    6362\n",
       "13M                    5569\n",
       "14M                    5266\n",
       "15M                    5157\n",
       "16M                    4531\n",
       "10M                    4031\n",
       "17M                    3770\n",
       "18M                    3647\n",
       "19M                    3585\n",
       "20M                    3256\n",
       "21M                    2971\n",
       "23M                    2759\n",
       "22M                    2734\n",
       "24M                    2706\n",
       "25M                    2649\n",
       "3.8M                   2619\n",
       "3.4M                   2608\n",
       "3.3M                   2603\n",
       "3.6M                   2575\n",
       "3.2M                   2574\n",
       "3.7M                   2541\n",
       "3.5M                   2488\n",
       "3.9M                   2464\n",
       "2.9M                   2416\n",
       "3.1M                   2395\n",
       "4.0M                   2374\n",
       "26M                    2368\n",
       "2.8M                   2352\n",
       "                      ...  \n",
       "887k                      1\n",
       "264k                      1\n",
       "120M                      1\n",
       "117M                      1\n",
       "208k                      1\n",
       "311k                      1\n",
       "286k                      1\n",
       "691k                      1\n",
       "635k                      1\n",
       "8.5k                      1\n",
       "601k                      1\n",
       "426k                      1\n",
       "124M                      1\n",
       "331k                      1\n",
       "770k                      1\n",
       "123M                      1\n",
       "961k                      1\n",
       "471k                      1\n",
       "138M                      1\n",
       "5.8k                      1\n",
       "126M                      1\n",
       "650k                      1\n",
       "6.3k                      1\n",
       "565k                      1\n",
       "268k                      1\n",
       "145M                      1\n",
       "537k                      1\n",
       "7.5k                      1\n",
       "132M                      1\n",
       "511k                      1\n",
       "Name: Size, Length: 1236, dtype: int64"
      ]
     },
     "execution_count": 28,
     "metadata": {},
     "output_type": "execute_result"
    }
   ],
   "source": [
    "data['Size'].value_counts()"
   ]
  },
  {
   "cell_type": "code",
   "execution_count": 29,
   "metadata": {},
   "outputs": [],
   "source": [
    "mask=data['Size']!='Varies with device'\n",
    "data=data[mask]"
   ]
  },
  {
   "cell_type": "code",
   "execution_count": 30,
   "metadata": {},
   "outputs": [
    {
     "data": {
      "text/plain": [
       "(255308, 8)"
      ]
     },
     "execution_count": 30,
     "metadata": {},
     "output_type": "execute_result"
    }
   ],
   "source": [
    "data.shape"
   ]
  },
  {
   "cell_type": "code",
   "execution_count": 31,
   "metadata": {},
   "outputs": [],
   "source": [
    "t=[]\n",
    "for i in data['Size']:\n",
    "    a=\"\"\n",
    "    for j in i:\n",
    "        if (j=='M') | (j=='k'):\n",
    "            break\n",
    "        elif j==',':\n",
    "            continue\n",
    "        else:\n",
    "            a+=j\n",
    "    b=i[-1]\n",
    "    c=float(a)\n",
    "    if b=='M':\n",
    "        c=c*1024\n",
    "    t.append(int(round(c)))"
   ]
  },
  {
   "cell_type": "code",
   "execution_count": 32,
   "metadata": {},
   "outputs": [],
   "source": [
    "data['Size']=t"
   ]
  },
  {
   "cell_type": "code",
   "execution_count": 33,
   "metadata": {},
   "outputs": [
    {
     "name": "stdout",
     "output_type": "stream",
     "text": [
      "<class 'pandas.core.frame.DataFrame'>\n",
      "Int64Index: 255308 entries, 2 to 267051\n",
      "Data columns (total 8 columns):\n",
      "Category           255308 non-null object\n",
      "Rating             255308 non-null float64\n",
      "Reviews            255308 non-null int64\n",
      "Installs           255308 non-null int64\n",
      "Size               255308 non-null int64\n",
      "Price              255308 non-null object\n",
      "Content Rating     255308 non-null object\n",
      "Minimum Version    255308 non-null object\n",
      "dtypes: float64(1), int64(3), object(4)\n",
      "memory usage: 17.5+ MB\n"
     ]
    }
   ],
   "source": [
    "data.info()"
   ]
  },
  {
   "cell_type": "code",
   "execution_count": 34,
   "metadata": {},
   "outputs": [],
   "source": [
    "t=[]\n",
    "for i in data['Price']:\n",
    "    a=\"\"\n",
    "    for j in i:\n",
    "        if j=='$':\n",
    "            continue\n",
    "        else:\n",
    "            a+=j\n",
    "    c=float(a)\n",
    "    t.append(int(round(c)))\n",
    "data['Price']=t"
   ]
  },
  {
   "cell_type": "code",
   "execution_count": 35,
   "metadata": {
    "scrolled": true
   },
   "outputs": [
    {
     "data": {
      "text/plain": [
       "4.1 and up            68999\n",
       "4.0.3 and up          48875\n",
       "4.0 and up            37412\n",
       "4.4 and up            27605\n",
       "5.0 and up            17061\n",
       "4.2 and up            13487\n",
       "2.3 and up            11792\n",
       "4.3 and up             5195\n",
       "2.2 and up             4847\n",
       "2.3.3 and up           4765\n",
       "3.0 and up             4273\n",
       "2.1 and up             2373\n",
       "6.0 and up             2103\n",
       "1.6 and up             1648\n",
       "5.1 and up              984\n",
       "3.2 and up              614\n",
       "7.0 and up              543\n",
       "Varies with device      525\n",
       "4.4W and up             450\n",
       "2.0 and up              421\n",
       "1.5 and up              408\n",
       "3.1 and up              347\n",
       "8.0 and up              221\n",
       "1.0 and up               95\n",
       "2.0.1 and up             90\n",
       "7.1 and up               46\n",
       "1.1 and up               15\n",
       "4.1 - 7.1.1              12\n",
       "4.1 - 8.0                11\n",
       "4.0.3 - 8.0               5\n",
       "                      ...  \n",
       "2.2 - 5.0                 1\n",
       "4.2 - 4.2.2               1\n",
       "2.1 - 7.1.1               1\n",
       "2.3.3 - 4.4W              1\n",
       "4.0 - 5.1                 1\n",
       "4.1 - 7.0                 1\n",
       "2.3.3 - 4.4               1\n",
       "4.0.3 - 4.4               1\n",
       "4.2 - 7.1.1               1\n",
       "4.2 - 8.0                 1\n",
       "4.0 - 4.2.2               1\n",
       "5.0 - 7.1.1               1\n",
       "4.0 - 6.0                 1\n",
       "2.2 - 4.2.2               1\n",
       "4.0 - 5.0                 1\n",
       "3.1 - 8.0                 1\n",
       "4.2 - 4.4W                1\n",
       "2.3.3 - 7.1.1             1\n",
       "4.0.3 - 4.4W              1\n",
       "4.0.3 - 7.1.1             1\n",
       "4.1 - 4.4                 1\n",
       "1.0 - 6.0                 1\n",
       "2.3 - 4.4W                1\n",
       "4.2 - 4.3                 1\n",
       "2.2 - 2.3.4               1\n",
       "2.3.3 - 5.1               1\n",
       "3.0 - 7.1.1               1\n",
       "2.2 - 6.0                 1\n",
       "4.4W - 8.0                1\n",
       "0                         1\n",
       "Name: Minimum Version, Length: 84, dtype: int64"
      ]
     },
     "execution_count": 35,
     "metadata": {},
     "output_type": "execute_result"
    }
   ],
   "source": [
    "data['Minimum Version'].value_counts()"
   ]
  },
  {
   "cell_type": "code",
   "execution_count": 36,
   "metadata": {},
   "outputs": [],
   "source": [
    "mask=data['Content Rating']=='Everyone'\n",
    "data=data[mask]"
   ]
  },
  {
   "cell_type": "code",
   "execution_count": 37,
   "metadata": {},
   "outputs": [],
   "source": [
    "data.drop(columns=['Content Rating'], inplace=True)"
   ]
  },
  {
   "cell_type": "code",
   "execution_count": 38,
   "metadata": {},
   "outputs": [],
   "source": [
    "mask=data['Minimum Version']!='Varies with device'\n",
    "data=data[mask]"
   ]
  },
  {
   "cell_type": "code",
   "execution_count": 39,
   "metadata": {},
   "outputs": [
    {
     "data": {
      "text/plain": [
       "(230771, 7)"
      ]
     },
     "execution_count": 39,
     "metadata": {},
     "output_type": "execute_result"
    }
   ],
   "source": [
    "data.shape"
   ]
  },
  {
   "cell_type": "code",
   "execution_count": 40,
   "metadata": {},
   "outputs": [],
   "source": [
    "t=[]\n",
    "for i in data['Minimum Version']:\n",
    "    try:\n",
    "        a=i[0]\n",
    "        t.append(int(a))\n",
    "    except:\n",
    "        t.append(i)\n",
    "data['Minimum Version']=t"
   ]
  },
  {
   "cell_type": "code",
   "execution_count": 41,
   "metadata": {},
   "outputs": [],
   "source": [
    "mask=(data['Reviews']>100) & (data['Installs']>1000)\n",
    "data=data[mask]"
   ]
  },
  {
   "cell_type": "code",
   "execution_count": 42,
   "metadata": {},
   "outputs": [
    {
     "name": "stdout",
     "output_type": "stream",
     "text": [
      "<class 'pandas.core.frame.DataFrame'>\n",
      "Int64Index: 105158 entries, 2 to 267043\n",
      "Data columns (total 7 columns):\n",
      "Category           105158 non-null object\n",
      "Rating             105158 non-null float64\n",
      "Reviews            105158 non-null int64\n",
      "Installs           105158 non-null int64\n",
      "Size               105158 non-null int64\n",
      "Price              105158 non-null int64\n",
      "Minimum Version    105158 non-null int64\n",
      "dtypes: float64(1), int64(5), object(1)\n",
      "memory usage: 6.4+ MB\n"
     ]
    }
   ],
   "source": [
    "data.info()"
   ]
  },
  {
   "cell_type": "code",
   "execution_count": 43,
   "metadata": {},
   "outputs": [
    {
     "data": {
      "text/plain": [
       "49"
      ]
     },
     "execution_count": 43,
     "metadata": {},
     "output_type": "execute_result"
    }
   ],
   "source": [
    "len(data['Category'].value_counts())"
   ]
  },
  {
   "cell_type": "code",
   "execution_count": 44,
   "metadata": {},
   "outputs": [],
   "source": [
    "category_index=data['Category'].value_counts().index"
   ]
  },
  {
   "cell_type": "code",
   "execution_count": 45,
   "metadata": {},
   "outputs": [
    {
     "data": {
      "text/plain": [
       "Index(['EDUCATION', 'TOOLS', 'BOOKS_AND_REFERENCE', 'ENTERTAINMENT',\n",
       "       'MUSIC_AND_AUDIO', 'LIFESTYLE', 'PERSONALIZATION', 'FINANCE',\n",
       "       'PHOTOGRAPHY', 'PRODUCTIVITY', 'HEALTH_AND_FITNESS', 'BUSINESS',\n",
       "       'TRAVEL_AND_LOCAL', 'NEWS_AND_MAGAZINES', 'SHOPPING', 'SPORTS',\n",
       "       'COMMUNICATION', 'MAPS_AND_NAVIGATION', 'GAME_PUZZLE', 'VIDEO_PLAYERS',\n",
       "       'GAME_CASUAL', 'MEDICAL', 'WEATHER', 'FOOD_AND_DRINK',\n",
       "       'GAME_EDUCATIONAL', 'SOCIAL', 'GAME_ARCADE', 'GAME_SIMULATION',\n",
       "       'AUTO_AND_VEHICLES', 'ART_AND_DESIGN', 'GAME_WORD', 'GAME_CARD',\n",
       "       'GAME_SPORTS', 'GAME_RACING', 'GAME_BOARD', 'GAME_TRIVIA',\n",
       "       'GAME_ACTION', 'GAME_ADVENTURE', 'HOUSE_AND_HOME', 'BEAUTY',\n",
       "       'PARENTING', 'GAME_ROLE_PLAYING', 'LIBRARIES_AND_DEMO', 'GAME_STRATEGY',\n",
       "       'COMICS', 'GAME_MUSIC', 'EVENTS', 'DATING', 'GAME_CASINO'],\n",
       "      dtype='object')"
      ]
     },
     "execution_count": 45,
     "metadata": {},
     "output_type": "execute_result"
    }
   ],
   "source": [
    "category_index"
   ]
  },
  {
   "cell_type": "code",
   "execution_count": 46,
   "metadata": {},
   "outputs": [],
   "source": [
    "category_array=[]\n",
    "for i in data['Category']:\n",
    "    t=[]\n",
    "    for j in category_index:\n",
    "        if i==j:\n",
    "            t.append(1)\n",
    "        else:\n",
    "            t.append(0)\n",
    "    category_array.append(t)"
   ]
  },
  {
   "cell_type": "code",
   "execution_count": 47,
   "metadata": {},
   "outputs": [],
   "source": [
    "category_array=np.array(category_array)"
   ]
  },
  {
   "cell_type": "code",
   "execution_count": 48,
   "metadata": {},
   "outputs": [],
   "source": [
    "for i in range(len(category_index)):\n",
    "    data[category_index[i]]=category_array[:,i]"
   ]
  },
  {
   "cell_type": "code",
   "execution_count": 49,
   "metadata": {},
   "outputs": [
    {
     "data": {
      "text/html": [
       "<div>\n",
       "<style scoped>\n",
       "    .dataframe tbody tr th:only-of-type {\n",
       "        vertical-align: middle;\n",
       "    }\n",
       "\n",
       "    .dataframe tbody tr th {\n",
       "        vertical-align: top;\n",
       "    }\n",
       "\n",
       "    .dataframe thead th {\n",
       "        text-align: right;\n",
       "    }\n",
       "</style>\n",
       "<table border=\"1\" class=\"dataframe\">\n",
       "  <thead>\n",
       "    <tr style=\"text-align: right;\">\n",
       "      <th></th>\n",
       "      <th>Category</th>\n",
       "      <th>Rating</th>\n",
       "      <th>Reviews</th>\n",
       "      <th>Installs</th>\n",
       "      <th>Size</th>\n",
       "      <th>Price</th>\n",
       "      <th>Minimum Version</th>\n",
       "      <th>EDUCATION</th>\n",
       "      <th>TOOLS</th>\n",
       "      <th>BOOKS_AND_REFERENCE</th>\n",
       "      <th>...</th>\n",
       "      <th>BEAUTY</th>\n",
       "      <th>PARENTING</th>\n",
       "      <th>GAME_ROLE_PLAYING</th>\n",
       "      <th>LIBRARIES_AND_DEMO</th>\n",
       "      <th>GAME_STRATEGY</th>\n",
       "      <th>COMICS</th>\n",
       "      <th>GAME_MUSIC</th>\n",
       "      <th>EVENTS</th>\n",
       "      <th>DATING</th>\n",
       "      <th>GAME_CASINO</th>\n",
       "    </tr>\n",
       "  </thead>\n",
       "  <tbody>\n",
       "    <tr>\n",
       "      <th>2</th>\n",
       "      <td>SHOPPING</td>\n",
       "      <td>3.656329</td>\n",
       "      <td>1967</td>\n",
       "      <td>100000</td>\n",
       "      <td>1434</td>\n",
       "      <td>0</td>\n",
       "      <td>5</td>\n",
       "      <td>0</td>\n",
       "      <td>0</td>\n",
       "      <td>0</td>\n",
       "      <td>...</td>\n",
       "      <td>0</td>\n",
       "      <td>0</td>\n",
       "      <td>0</td>\n",
       "      <td>0</td>\n",
       "      <td>0</td>\n",
       "      <td>0</td>\n",
       "      <td>0</td>\n",
       "      <td>0</td>\n",
       "      <td>0</td>\n",
       "      <td>0</td>\n",
       "    </tr>\n",
       "    <tr>\n",
       "      <th>3</th>\n",
       "      <td>FOOD_AND_DRINK</td>\n",
       "      <td>4.107233</td>\n",
       "      <td>389154</td>\n",
       "      <td>10000000</td>\n",
       "      <td>16384</td>\n",
       "      <td>0</td>\n",
       "      <td>4</td>\n",
       "      <td>0</td>\n",
       "      <td>0</td>\n",
       "      <td>0</td>\n",
       "      <td>...</td>\n",
       "      <td>0</td>\n",
       "      <td>0</td>\n",
       "      <td>0</td>\n",
       "      <td>0</td>\n",
       "      <td>0</td>\n",
       "      <td>0</td>\n",
       "      <td>0</td>\n",
       "      <td>0</td>\n",
       "      <td>0</td>\n",
       "      <td>0</td>\n",
       "    </tr>\n",
       "    <tr>\n",
       "      <th>5</th>\n",
       "      <td>FOOD_AND_DRINK</td>\n",
       "      <td>3.825322</td>\n",
       "      <td>2559</td>\n",
       "      <td>100000</td>\n",
       "      <td>23552</td>\n",
       "      <td>0</td>\n",
       "      <td>5</td>\n",
       "      <td>0</td>\n",
       "      <td>0</td>\n",
       "      <td>0</td>\n",
       "      <td>...</td>\n",
       "      <td>0</td>\n",
       "      <td>0</td>\n",
       "      <td>0</td>\n",
       "      <td>0</td>\n",
       "      <td>0</td>\n",
       "      <td>0</td>\n",
       "      <td>0</td>\n",
       "      <td>0</td>\n",
       "      <td>0</td>\n",
       "      <td>0</td>\n",
       "    </tr>\n",
       "    <tr>\n",
       "      <th>12</th>\n",
       "      <td>LIFESTYLE</td>\n",
       "      <td>3.213528</td>\n",
       "      <td>754</td>\n",
       "      <td>100000</td>\n",
       "      <td>39936</td>\n",
       "      <td>0</td>\n",
       "      <td>5</td>\n",
       "      <td>0</td>\n",
       "      <td>0</td>\n",
       "      <td>0</td>\n",
       "      <td>...</td>\n",
       "      <td>0</td>\n",
       "      <td>0</td>\n",
       "      <td>0</td>\n",
       "      <td>0</td>\n",
       "      <td>0</td>\n",
       "      <td>0</td>\n",
       "      <td>0</td>\n",
       "      <td>0</td>\n",
       "      <td>0</td>\n",
       "      <td>0</td>\n",
       "    </tr>\n",
       "    <tr>\n",
       "      <th>13</th>\n",
       "      <td>FOOD_AND_DRINK</td>\n",
       "      <td>4.160279</td>\n",
       "      <td>287</td>\n",
       "      <td>100000</td>\n",
       "      <td>8294</td>\n",
       "      <td>0</td>\n",
       "      <td>4</td>\n",
       "      <td>0</td>\n",
       "      <td>0</td>\n",
       "      <td>0</td>\n",
       "      <td>...</td>\n",
       "      <td>0</td>\n",
       "      <td>0</td>\n",
       "      <td>0</td>\n",
       "      <td>0</td>\n",
       "      <td>0</td>\n",
       "      <td>0</td>\n",
       "      <td>0</td>\n",
       "      <td>0</td>\n",
       "      <td>0</td>\n",
       "      <td>0</td>\n",
       "    </tr>\n",
       "  </tbody>\n",
       "</table>\n",
       "<p>5 rows × 56 columns</p>\n",
       "</div>"
      ],
      "text/plain": [
       "          Category    Rating  Reviews  Installs   Size  Price  \\\n",
       "2         SHOPPING  3.656329     1967    100000   1434      0   \n",
       "3   FOOD_AND_DRINK  4.107233   389154  10000000  16384      0   \n",
       "5   FOOD_AND_DRINK  3.825322     2559    100000  23552      0   \n",
       "12       LIFESTYLE  3.213528      754    100000  39936      0   \n",
       "13  FOOD_AND_DRINK  4.160279      287    100000   8294      0   \n",
       "\n",
       "    Minimum Version  EDUCATION  TOOLS  BOOKS_AND_REFERENCE     ...       \\\n",
       "2                 5          0      0                    0     ...        \n",
       "3                 4          0      0                    0     ...        \n",
       "5                 5          0      0                    0     ...        \n",
       "12                5          0      0                    0     ...        \n",
       "13                4          0      0                    0     ...        \n",
       "\n",
       "    BEAUTY  PARENTING  GAME_ROLE_PLAYING  LIBRARIES_AND_DEMO  GAME_STRATEGY  \\\n",
       "2        0          0                  0                   0              0   \n",
       "3        0          0                  0                   0              0   \n",
       "5        0          0                  0                   0              0   \n",
       "12       0          0                  0                   0              0   \n",
       "13       0          0                  0                   0              0   \n",
       "\n",
       "    COMICS  GAME_MUSIC  EVENTS  DATING  GAME_CASINO  \n",
       "2        0           0       0       0            0  \n",
       "3        0           0       0       0            0  \n",
       "5        0           0       0       0            0  \n",
       "12       0           0       0       0            0  \n",
       "13       0           0       0       0            0  \n",
       "\n",
       "[5 rows x 56 columns]"
      ]
     },
     "execution_count": 49,
     "metadata": {},
     "output_type": "execute_result"
    }
   ],
   "source": [
    "data.head()"
   ]
  },
  {
   "cell_type": "code",
   "execution_count": 50,
   "metadata": {},
   "outputs": [],
   "source": [
    "data.drop(columns=['Category'], inplace=True)"
   ]
  },
  {
   "cell_type": "code",
   "execution_count": 51,
   "metadata": {},
   "outputs": [
    {
     "name": "stdout",
     "output_type": "stream",
     "text": [
      "<class 'pandas.core.frame.DataFrame'>\n",
      "Int64Index: 105158 entries, 2 to 267043\n",
      "Data columns (total 55 columns):\n",
      "Rating                 105158 non-null float64\n",
      "Reviews                105158 non-null int64\n",
      "Installs               105158 non-null int64\n",
      "Size                   105158 non-null int64\n",
      "Price                  105158 non-null int64\n",
      "Minimum Version        105158 non-null int64\n",
      "EDUCATION              105158 non-null int32\n",
      "TOOLS                  105158 non-null int32\n",
      "BOOKS_AND_REFERENCE    105158 non-null int32\n",
      "ENTERTAINMENT          105158 non-null int32\n",
      "MUSIC_AND_AUDIO        105158 non-null int32\n",
      "LIFESTYLE              105158 non-null int32\n",
      "PERSONALIZATION        105158 non-null int32\n",
      "FINANCE                105158 non-null int32\n",
      "PHOTOGRAPHY            105158 non-null int32\n",
      "PRODUCTIVITY           105158 non-null int32\n",
      "HEALTH_AND_FITNESS     105158 non-null int32\n",
      "BUSINESS               105158 non-null int32\n",
      "TRAVEL_AND_LOCAL       105158 non-null int32\n",
      "NEWS_AND_MAGAZINES     105158 non-null int32\n",
      "SHOPPING               105158 non-null int32\n",
      "SPORTS                 105158 non-null int32\n",
      "COMMUNICATION          105158 non-null int32\n",
      "MAPS_AND_NAVIGATION    105158 non-null int32\n",
      "GAME_PUZZLE            105158 non-null int32\n",
      "VIDEO_PLAYERS          105158 non-null int32\n",
      "GAME_CASUAL            105158 non-null int32\n",
      "MEDICAL                105158 non-null int32\n",
      "WEATHER                105158 non-null int32\n",
      "FOOD_AND_DRINK         105158 non-null int32\n",
      "GAME_EDUCATIONAL       105158 non-null int32\n",
      "SOCIAL                 105158 non-null int32\n",
      "GAME_ARCADE            105158 non-null int32\n",
      "GAME_SIMULATION        105158 non-null int32\n",
      "AUTO_AND_VEHICLES      105158 non-null int32\n",
      "ART_AND_DESIGN         105158 non-null int32\n",
      "GAME_WORD              105158 non-null int32\n",
      "GAME_CARD              105158 non-null int32\n",
      "GAME_SPORTS            105158 non-null int32\n",
      "GAME_RACING            105158 non-null int32\n",
      "GAME_BOARD             105158 non-null int32\n",
      "GAME_TRIVIA            105158 non-null int32\n",
      "GAME_ACTION            105158 non-null int32\n",
      "GAME_ADVENTURE         105158 non-null int32\n",
      "HOUSE_AND_HOME         105158 non-null int32\n",
      "BEAUTY                 105158 non-null int32\n",
      "PARENTING              105158 non-null int32\n",
      "GAME_ROLE_PLAYING      105158 non-null int32\n",
      "LIBRARIES_AND_DEMO     105158 non-null int32\n",
      "GAME_STRATEGY          105158 non-null int32\n",
      "COMICS                 105158 non-null int32\n",
      "GAME_MUSIC             105158 non-null int32\n",
      "EVENTS                 105158 non-null int32\n",
      "DATING                 105158 non-null int32\n",
      "GAME_CASINO            105158 non-null int32\n",
      "dtypes: float64(1), int32(49), int64(5)\n",
      "memory usage: 25.3 MB\n"
     ]
    }
   ],
   "source": [
    "data.info()"
   ]
  },
  {
   "cell_type": "code",
   "execution_count": 52,
   "metadata": {
    "scrolled": true
   },
   "outputs": [
    {
     "data": {
      "text/plain": [
       "Rating                 1.000000\n",
       "Reviews                0.024900\n",
       "Installs               0.009804\n",
       "Size                   0.016709\n",
       "Price                  0.010365\n",
       "Minimum Version       -0.027468\n",
       "EDUCATION              0.075635\n",
       "TOOLS                 -0.063274\n",
       "BOOKS_AND_REFERENCE    0.172677\n",
       "ENTERTAINMENT         -0.005788\n",
       "MUSIC_AND_AUDIO        0.099795\n",
       "LIFESTYLE              0.001707\n",
       "PERSONALIZATION        0.090707\n",
       "FINANCE               -0.132173\n",
       "PHOTOGRAPHY           -0.035122\n",
       "PRODUCTIVITY          -0.041984\n",
       "HEALTH_AND_FITNESS    -0.012581\n",
       "BUSINESS              -0.078760\n",
       "TRAVEL_AND_LOCAL      -0.063698\n",
       "NEWS_AND_MAGAZINES    -0.023066\n",
       "SHOPPING              -0.039539\n",
       "SPORTS                 0.007780\n",
       "COMMUNICATION         -0.036561\n",
       "MAPS_AND_NAVIGATION   -0.079819\n",
       "GAME_PUZZLE            0.029449\n",
       "VIDEO_PLAYERS         -0.044982\n",
       "GAME_CASUAL            0.003391\n",
       "MEDICAL               -0.013547\n",
       "WEATHER               -0.001782\n",
       "FOOD_AND_DRINK        -0.005430\n",
       "GAME_EDUCATIONAL       0.001227\n",
       "SOCIAL                 0.011172\n",
       "GAME_ARCADE           -0.005039\n",
       "GAME_SIMULATION       -0.004974\n",
       "AUTO_AND_VEHICLES     -0.023789\n",
       "ART_AND_DESIGN         0.005670\n",
       "GAME_WORD              0.025766\n",
       "GAME_CARD              0.003342\n",
       "GAME_SPORTS           -0.008419\n",
       "GAME_RACING           -0.008621\n",
       "GAME_BOARD            -0.004845\n",
       "GAME_TRIVIA            0.001495\n",
       "GAME_ACTION           -0.002877\n",
       "GAME_ADVENTURE         0.004171\n",
       "HOUSE_AND_HOME        -0.022536\n",
       "BEAUTY                -0.000868\n",
       "PARENTING              0.015176\n",
       "GAME_ROLE_PLAYING      0.004396\n",
       "LIBRARIES_AND_DEMO    -0.003938\n",
       "GAME_STRATEGY          0.001267\n",
       "COMICS                 0.002573\n",
       "GAME_MUSIC            -0.007006\n",
       "EVENTS                 0.002470\n",
       "DATING                 0.001777\n",
       "GAME_CASINO            0.001551\n",
       "Name: Rating, dtype: float64"
      ]
     },
     "execution_count": 52,
     "metadata": {},
     "output_type": "execute_result"
    }
   ],
   "source": [
    "data.corr()['Rating']"
   ]
  },
  {
   "cell_type": "code",
   "execution_count": 53,
   "metadata": {},
   "outputs": [],
   "source": [
    "y=data.iloc[:,0]\n",
    "X=data.iloc[:,1:]"
   ]
  },
  {
   "cell_type": "code",
   "execution_count": 54,
   "metadata": {},
   "outputs": [
    {
     "data": {
      "text/plain": [
       "(105158, 54)"
      ]
     },
     "execution_count": 54,
     "metadata": {},
     "output_type": "execute_result"
    }
   ],
   "source": [
    "X.shape"
   ]
  },
  {
   "cell_type": "code",
   "execution_count": 55,
   "metadata": {},
   "outputs": [
    {
     "data": {
      "text/plain": [
       "(105158,)"
      ]
     },
     "execution_count": 55,
     "metadata": {},
     "output_type": "execute_result"
    }
   ],
   "source": [
    "y.shape"
   ]
  },
  {
   "cell_type": "code",
   "execution_count": 56,
   "metadata": {},
   "outputs": [],
   "source": [
    "from sklearn.model_selection import train_test_split\n",
    "X_train, X_test, y_train, y_test=train_test_split(X,y,test_size=0.2,random_state=7)"
   ]
  },
  {
   "cell_type": "code",
   "execution_count": 57,
   "metadata": {},
   "outputs": [],
   "source": [
    "from sklearn.linear_model import LinearRegression  #Doing Linear Regression\n",
    "regressor=LinearRegression()"
   ]
  },
  {
   "cell_type": "code",
   "execution_count": 58,
   "metadata": {},
   "outputs": [
    {
     "data": {
      "text/plain": [
       "LinearRegression(copy_X=True, fit_intercept=True, n_jobs=None,\n",
       "         normalize=False)"
      ]
     },
     "execution_count": 58,
     "metadata": {},
     "output_type": "execute_result"
    }
   ],
   "source": [
    "regressor.fit(X_train,y_train)"
   ]
  },
  {
   "cell_type": "code",
   "execution_count": 59,
   "metadata": {},
   "outputs": [],
   "source": [
    "y_pred=regressor.predict(X_test)"
   ]
  },
  {
   "cell_type": "code",
   "execution_count": 60,
   "metadata": {},
   "outputs": [],
   "source": [
    "from sklearn.metrics import r2_score"
   ]
  },
  {
   "cell_type": "code",
   "execution_count": 61,
   "metadata": {},
   "outputs": [
    {
     "data": {
      "text/plain": [
       "0.0960708218360895"
      ]
     },
     "execution_count": 61,
     "metadata": {},
     "output_type": "execute_result"
    }
   ],
   "source": [
    "r2_score(y_test,y_pred)   #r2_score by Linear Regression"
   ]
  },
  {
   "cell_type": "code",
   "execution_count": 62,
   "metadata": {},
   "outputs": [],
   "source": [
    "t=[]\n",
    "for i in data['Rating']:\n",
    "    t.append(int(round(i)))\n",
    "data['Rating']=t"
   ]
  },
  {
   "cell_type": "code",
   "execution_count": 63,
   "metadata": {
    "scrolled": true
   },
   "outputs": [
    {
     "name": "stdout",
     "output_type": "stream",
     "text": [
      "<class 'pandas.core.frame.DataFrame'>\n",
      "Int64Index: 105158 entries, 2 to 267043\n",
      "Data columns (total 55 columns):\n",
      "Rating                 105158 non-null int64\n",
      "Reviews                105158 non-null int64\n",
      "Installs               105158 non-null int64\n",
      "Size                   105158 non-null int64\n",
      "Price                  105158 non-null int64\n",
      "Minimum Version        105158 non-null int64\n",
      "EDUCATION              105158 non-null int32\n",
      "TOOLS                  105158 non-null int32\n",
      "BOOKS_AND_REFERENCE    105158 non-null int32\n",
      "ENTERTAINMENT          105158 non-null int32\n",
      "MUSIC_AND_AUDIO        105158 non-null int32\n",
      "LIFESTYLE              105158 non-null int32\n",
      "PERSONALIZATION        105158 non-null int32\n",
      "FINANCE                105158 non-null int32\n",
      "PHOTOGRAPHY            105158 non-null int32\n",
      "PRODUCTIVITY           105158 non-null int32\n",
      "HEALTH_AND_FITNESS     105158 non-null int32\n",
      "BUSINESS               105158 non-null int32\n",
      "TRAVEL_AND_LOCAL       105158 non-null int32\n",
      "NEWS_AND_MAGAZINES     105158 non-null int32\n",
      "SHOPPING               105158 non-null int32\n",
      "SPORTS                 105158 non-null int32\n",
      "COMMUNICATION          105158 non-null int32\n",
      "MAPS_AND_NAVIGATION    105158 non-null int32\n",
      "GAME_PUZZLE            105158 non-null int32\n",
      "VIDEO_PLAYERS          105158 non-null int32\n",
      "GAME_CASUAL            105158 non-null int32\n",
      "MEDICAL                105158 non-null int32\n",
      "WEATHER                105158 non-null int32\n",
      "FOOD_AND_DRINK         105158 non-null int32\n",
      "GAME_EDUCATIONAL       105158 non-null int32\n",
      "SOCIAL                 105158 non-null int32\n",
      "GAME_ARCADE            105158 non-null int32\n",
      "GAME_SIMULATION        105158 non-null int32\n",
      "AUTO_AND_VEHICLES      105158 non-null int32\n",
      "ART_AND_DESIGN         105158 non-null int32\n",
      "GAME_WORD              105158 non-null int32\n",
      "GAME_CARD              105158 non-null int32\n",
      "GAME_SPORTS            105158 non-null int32\n",
      "GAME_RACING            105158 non-null int32\n",
      "GAME_BOARD             105158 non-null int32\n",
      "GAME_TRIVIA            105158 non-null int32\n",
      "GAME_ACTION            105158 non-null int32\n",
      "GAME_ADVENTURE         105158 non-null int32\n",
      "HOUSE_AND_HOME         105158 non-null int32\n",
      "BEAUTY                 105158 non-null int32\n",
      "PARENTING              105158 non-null int32\n",
      "GAME_ROLE_PLAYING      105158 non-null int32\n",
      "LIBRARIES_AND_DEMO     105158 non-null int32\n",
      "GAME_STRATEGY          105158 non-null int32\n",
      "COMICS                 105158 non-null int32\n",
      "GAME_MUSIC             105158 non-null int32\n",
      "EVENTS                 105158 non-null int32\n",
      "DATING                 105158 non-null int32\n",
      "GAME_CASINO            105158 non-null int32\n",
      "dtypes: int32(49), int64(6)\n",
      "memory usage: 25.3 MB\n"
     ]
    }
   ],
   "source": [
    "data.info()"
   ]
  },
  {
   "cell_type": "code",
   "execution_count": 64,
   "metadata": {},
   "outputs": [],
   "source": [
    "y1=data.iloc[:,0]   #taking integer data for Decision Tree Classifier\n",
    "from sklearn.model_selection import train_test_split\n",
    "X_train, X_test, y1_train, y1_test=train_test_split(X,y1,test_size=0.2,random_state=7)"
   ]
  },
  {
   "cell_type": "code",
   "execution_count": 65,
   "metadata": {},
   "outputs": [
    {
     "data": {
      "text/plain": [
       "(105158, 54)"
      ]
     },
     "execution_count": 65,
     "metadata": {},
     "output_type": "execute_result"
    }
   ],
   "source": [
    "X.shape"
   ]
  },
  {
   "cell_type": "code",
   "execution_count": 66,
   "metadata": {},
   "outputs": [
    {
     "data": {
      "text/plain": [
       "(105158,)"
      ]
     },
     "execution_count": 66,
     "metadata": {},
     "output_type": "execute_result"
    }
   ],
   "source": [
    "y1.shape"
   ]
  },
  {
   "cell_type": "code",
   "execution_count": 67,
   "metadata": {},
   "outputs": [],
   "source": [
    "from sklearn.tree import DecisionTreeClassifier   #Doing Decision Tree Classifier\n",
    "classifier=DecisionTreeClassifier()"
   ]
  },
  {
   "cell_type": "code",
   "execution_count": 68,
   "metadata": {},
   "outputs": [
    {
     "data": {
      "text/plain": [
       "DecisionTreeClassifier(class_weight=None, criterion='gini', max_depth=None,\n",
       "            max_features=None, max_leaf_nodes=None,\n",
       "            min_impurity_decrease=0.0, min_impurity_split=None,\n",
       "            min_samples_leaf=1, min_samples_split=2,\n",
       "            min_weight_fraction_leaf=0.0, presort=False, random_state=None,\n",
       "            splitter='best')"
      ]
     },
     "execution_count": 68,
     "metadata": {},
     "output_type": "execute_result"
    }
   ],
   "source": [
    "classifier.fit(X_train,y1_train)"
   ]
  },
  {
   "cell_type": "code",
   "execution_count": 69,
   "metadata": {},
   "outputs": [],
   "source": [
    "y1_pred=classifier.predict(X_test)"
   ]
  },
  {
   "cell_type": "code",
   "execution_count": 70,
   "metadata": {},
   "outputs": [
    {
     "data": {
      "text/plain": [
       "0.5635697984024344"
      ]
     },
     "execution_count": 70,
     "metadata": {},
     "output_type": "execute_result"
    }
   ],
   "source": [
    "from sklearn.metrics import accuracy_score   #Accuracy\n",
    "accuracy_score(y1_test,y1_pred)"
   ]
  },
  {
   "cell_type": "code",
   "execution_count": 71,
   "metadata": {},
   "outputs": [],
   "source": [
    "y2_pred=regressor.predict(X_test)"
   ]
  },
  {
   "cell_type": "code",
   "execution_count": 72,
   "metadata": {},
   "outputs": [
    {
     "data": {
      "text/plain": [
       "0.07974857945673208"
      ]
     },
     "execution_count": 72,
     "metadata": {},
     "output_type": "execute_result"
    }
   ],
   "source": [
    "r2_score(y1_test,y2_pred)"
   ]
  },
  {
   "cell_type": "code",
   "execution_count": 73,
   "metadata": {},
   "outputs": [],
   "source": [
    "from sklearn.ensemble import RandomForestRegressor   #Doing Random Forest Regressor\n",
    "regressor2=RandomForestRegressor(n_estimators=100,max_features=3,min_samples_leaf=10)"
   ]
  },
  {
   "cell_type": "code",
   "execution_count": 74,
   "metadata": {},
   "outputs": [
    {
     "data": {
      "text/plain": [
       "RandomForestRegressor(bootstrap=True, criterion='mse', max_depth=None,\n",
       "           max_features=3, max_leaf_nodes=None, min_impurity_decrease=0.0,\n",
       "           min_impurity_split=None, min_samples_leaf=10,\n",
       "           min_samples_split=2, min_weight_fraction_leaf=0.0,\n",
       "           n_estimators=100, n_jobs=None, oob_score=False,\n",
       "           random_state=None, verbose=0, warm_start=False)"
      ]
     },
     "execution_count": 74,
     "metadata": {},
     "output_type": "execute_result"
    }
   ],
   "source": [
    "regressor2.fit(X_train,y_train)"
   ]
  },
  {
   "cell_type": "code",
   "execution_count": 75,
   "metadata": {},
   "outputs": [],
   "source": [
    "y3_pred=regressor2.predict(X_test)"
   ]
  },
  {
   "cell_type": "code",
   "execution_count": 76,
   "metadata": {},
   "outputs": [
    {
     "data": {
      "text/plain": [
       "0.17515254663472335"
      ]
     },
     "execution_count": 76,
     "metadata": {},
     "output_type": "execute_result"
    }
   ],
   "source": [
    "r2_score(y_test,y3_pred)"
   ]
  },
  {
   "cell_type": "code",
   "execution_count": 77,
   "metadata": {},
   "outputs": [
    {
     "data": {
      "text/plain": [
       "RandomForestRegressor(bootstrap=True, criterion='mse', max_depth=None,\n",
       "           max_features=3, max_leaf_nodes=None, min_impurity_decrease=0.0,\n",
       "           min_impurity_split=None, min_samples_leaf=10,\n",
       "           min_samples_split=2, min_weight_fraction_leaf=0.0,\n",
       "           n_estimators=100, n_jobs=None, oob_score=False,\n",
       "           random_state=None, verbose=0, warm_start=False)"
      ]
     },
     "execution_count": 77,
     "metadata": {},
     "output_type": "execute_result"
    }
   ],
   "source": [
    "regressor2.fit(X_train,y1_train)"
   ]
  },
  {
   "cell_type": "code",
   "execution_count": 78,
   "metadata": {},
   "outputs": [],
   "source": [
    "y4_pred=regressor2.predict(X_test)"
   ]
  },
  {
   "cell_type": "code",
   "execution_count": 79,
   "metadata": {},
   "outputs": [
    {
     "data": {
      "text/plain": [
       "0.15447342305885192"
      ]
     },
     "execution_count": 79,
     "metadata": {},
     "output_type": "execute_result"
    }
   ],
   "source": [
    "r2_score(y1_test,y4_pred)"
   ]
  },
  {
   "cell_type": "code",
   "execution_count": 80,
   "metadata": {},
   "outputs": [],
   "source": [
    "from sklearn.naive_bayes import MultinomialNB   #Doing MultinomialNB\n",
    "mnb=MultinomialNB()"
   ]
  },
  {
   "cell_type": "code",
   "execution_count": 81,
   "metadata": {},
   "outputs": [
    {
     "data": {
      "text/plain": [
       "MultinomialNB(alpha=1.0, class_prior=None, fit_prior=True)"
      ]
     },
     "execution_count": 81,
     "metadata": {},
     "output_type": "execute_result"
    }
   ],
   "source": [
    "mnb.fit(X_train,y1_train)"
   ]
  },
  {
   "cell_type": "code",
   "execution_count": 82,
   "metadata": {},
   "outputs": [],
   "source": [
    "y5_pred=mnb.predict(X_test)"
   ]
  },
  {
   "cell_type": "code",
   "execution_count": 83,
   "metadata": {},
   "outputs": [
    {
     "data": {
      "text/plain": [
       "0.20464054773678206"
      ]
     },
     "execution_count": 83,
     "metadata": {},
     "output_type": "execute_result"
    }
   ],
   "source": [
    "accuracy_score(y1_test,y5_pred)"
   ]
  },
  {
   "cell_type": "code",
   "execution_count": 84,
   "metadata": {},
   "outputs": [
    {
     "data": {
      "text/plain": [
       "-16.505521707895003"
      ]
     },
     "execution_count": 84,
     "metadata": {},
     "output_type": "execute_result"
    }
   ],
   "source": [
    "r2_score(y1_test,y5_pred)"
   ]
  },
  {
   "cell_type": "code",
   "execution_count": 121,
   "metadata": {},
   "outputs": [],
   "source": [
    "def Rating_Predictor():\n",
    "    name=input(\"Enter the app name : \")\n",
    "    category=input(\"Enter the app category : \")\n",
    "    size=int(input(\"Enter the size of the app in kilobytes : \"))\n",
    "    review=int(input(\"Enter the number of people reviewing : \"))\n",
    "    install=int(input(\"Enter the number of downloads : \"))\n",
    "    price=int(input(\"Enter the price of the app : \"))\n",
    "    min_ver=float(input(\"Enter the minimum version of the app : \"))\n",
    "    test=np.array([review,install,size,price,round(min_ver)])\n",
    "    for i in range(6,len(data.columns)):\n",
    "        if (data.columns[i]==category):\n",
    "            test=np.append(test,[1])\n",
    "        else:\n",
    "            test=np.append(test,[0])\n",
    "    test_final=pd.DataFrame(test.reshape(-1,len(test)))\n",
    "    print(\"The rating of\",name,\"could be\",regressor.predict(test_final),\"or\",classifier.predict(test_final),\"or\",regressor2.predict(test_final),\"or\",mnb.predict(test_final))"
   ]
  },
  {
   "cell_type": "code",
   "execution_count": 122,
   "metadata": {},
   "outputs": [
    {
     "name": "stdout",
     "output_type": "stream",
     "text": [
      "Enter the app name : PayPal\n",
      "Enter the app category : FINANCE\n",
      "Enter the size of the app in kilobytes : 29696\n",
      "Enter the number of people reviewing : 1000000\n",
      "Enter the number of downloads : 50000000\n",
      "Enter the price of the app : 0\n",
      "Enter the minimum version of the app : 2.0\n",
      "The rating of PayPal could be [4.06749968] or [4] or [4.09503782] or [4]\n"
     ]
    }
   ],
   "source": [
    "Rating_Predictor()"
   ]
  },
  {
   "cell_type": "code",
   "execution_count": null,
   "metadata": {},
   "outputs": [],
   "source": []
  }
 ],
 "metadata": {
  "kernelspec": {
   "display_name": "Python 3",
   "language": "python",
   "name": "python3"
  },
  "language_info": {
   "codemirror_mode": {
    "name": "ipython",
    "version": 3
   },
   "file_extension": ".py",
   "mimetype": "text/x-python",
   "name": "python",
   "nbconvert_exporter": "python",
   "pygments_lexer": "ipython3",
   "version": "3.7.1"
  }
 },
 "nbformat": 4,
 "nbformat_minor": 2
}
